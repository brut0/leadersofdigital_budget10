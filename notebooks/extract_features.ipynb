{
 "cells": [
  {
   "cell_type": "code",
   "execution_count": 1,
   "id": "5bc67b2a",
   "metadata": {},
   "outputs": [
    {
     "name": "stdout",
     "output_type": "stream",
     "text": [
      "3.3.4\n"
     ]
    }
   ],
   "source": [
    "import numpy as np\n",
    "import pandas as pd\n",
    "import matplotlib.pyplot as plt\n",
    "\n",
    "import matplotlib as matplotlib\n",
    "print(matplotlib.__version__)"
   ]
  },
  {
   "cell_type": "code",
   "execution_count": 2,
   "id": "59357a46",
   "metadata": {},
   "outputs": [],
   "source": [
    "pd.set_option('display.float_format', lambda x: '%.2f' % x)"
   ]
  },
  {
   "cell_type": "code",
   "execution_count": 3,
   "id": "334979d0",
   "metadata": {},
   "outputs": [],
   "source": [
    "FIGSIZE = (12,5)"
   ]
  },
  {
   "cell_type": "code",
   "execution_count": 4,
   "id": "29a72ede",
   "metadata": {},
   "outputs": [],
   "source": [
    "FEATURES = ['Реальные располагаемые денежные доходы населения',\n",
    "            #'Среднегодовая остаточная стоимость облагаемого имущества',\n",
    "            'Внешнеторговый оборот',\n",
    "            'Численность постоянного населения',\n",
    "            'Инвестиции в основной капитал',\n",
    "            'Ввод в эксплуатацию жилых домов',\n",
    "            'Оборот розничной торговли',\n",
    "            'Объем платных услуг населению',\n",
    "            'Фонд заработной платы',\n",
    "            'Численность безработных, зарегистрированных в службах занятости',\n",
    "            'Уровень зарегистрированной безработицы (к численности экономически активного населения)']\n",
    "features = []"
   ]
  },
  {
   "cell_type": "code",
   "execution_count": 5,
   "id": "ee667ae6",
   "metadata": {},
   "outputs": [],
   "source": [
    "AGE_BEGIN = 2010\n",
    "AGE_END = 2020\n",
    "years = [year for year in range(AGE_BEGIN,AGE_END+1)]"
   ]
  },
  {
   "cell_type": "code",
   "execution_count": 6,
   "id": "c0e38da4",
   "metadata": {},
   "outputs": [
    {
     "name": "stderr",
     "output_type": "stream",
     "text": [
      "C:\\Users\\Sergio\\anaconda3\\lib\\site-packages\\openpyxl\\worksheet\\header_footer.py:48: UserWarning: Cannot parse header or footer so it will be ignored\n",
      "  warn(\"\"\"Cannot parse header or footer so it will be ignored\"\"\")\n"
     ]
    }
   ],
   "source": [
    "PATH = './data/Основные параметры прогнозов СЭР/'\n",
    "\n",
    "sed = {}\n",
    "\n",
    "for year in years:\n",
    "    try:\n",
    "        df = pd.read_excel(f'{PATH}Основные параметры прогноза на {year}-{year+2} годы.xlsx', header=1)\n",
    "    except:\n",
    "        df = pd.read_excel(f'{PATH}Основные параметры прогноза на {year}-{year+2} годы.xls', header=1)\n",
    "    sed[year] = df"
   ]
  },
  {
   "cell_type": "code",
   "execution_count": 7,
   "id": "d595bad7",
   "metadata": {},
   "outputs": [],
   "source": [
    "for year in years:\n",
    "    sed[year].rename(columns={f'{sed[year].columns[0]}':'indicator'}, inplace=True)"
   ]
  },
  {
   "cell_type": "code",
   "execution_count": 8,
   "id": "e020842f",
   "metadata": {},
   "outputs": [
    {
     "data": {
      "text/plain": [
       "0     False\n",
       "1     False\n",
       "2     False\n",
       "3     False\n",
       "4     False\n",
       "      ...  \n",
       "66    False\n",
       "67    False\n",
       "68    False\n",
       "69    False\n",
       "70    False\n",
       "Name: indicator, Length: 71, dtype: bool"
      ]
     },
     "execution_count": 8,
     "metadata": {},
     "output_type": "execute_result"
    }
   ],
   "source": [
    "sed[2010]['indicator'].str.replace(\" \",'') == FEATURES[1].replace(\" \",'')"
   ]
  },
  {
   "cell_type": "code",
   "execution_count": 9,
   "id": "cb3f4da2",
   "metadata": {},
   "outputs": [
    {
     "data": {
      "text/html": [
       "<div>\n",
       "<style scoped>\n",
       "    .dataframe tbody tr th:only-of-type {\n",
       "        vertical-align: middle;\n",
       "    }\n",
       "\n",
       "    .dataframe tbody tr th {\n",
       "        vertical-align: top;\n",
       "    }\n",
       "\n",
       "    .dataframe thead th {\n",
       "        text-align: right;\n",
       "    }\n",
       "</style>\n",
       "<table border=\"1\" class=\"dataframe\">\n",
       "  <thead>\n",
       "    <tr style=\"text-align: right;\">\n",
       "      <th></th>\n",
       "      <th>indicator</th>\n",
       "      <th>Unnamed: 1</th>\n",
       "      <th>Unnamed: 2</th>\n",
       "      <th>Unnamed: 3</th>\n",
       "      <th>Unnamed: 4</th>\n",
       "      <th>Unnamed: 5</th>\n",
       "      <th>Unnamed: 6</th>\n",
       "      <th>Unnamed: 7</th>\n",
       "      <th>Unnamed: 8</th>\n",
       "      <th>Unnamed: 9</th>\n",
       "      <th>Unnamed: 10</th>\n",
       "    </tr>\n",
       "  </thead>\n",
       "  <tbody>\n",
       "    <tr>\n",
       "      <th>62</th>\n",
       "      <td>Внешнеторговый оборот</td>\n",
       "      <td>млн.долл.\\nСША</td>\n",
       "      <td>1758.30</td>\n",
       "      <td>1951.50</td>\n",
       "      <td>1272</td>\n",
       "      <td>1235</td>\n",
       "      <td>1280</td>\n",
       "      <td>1270</td>\n",
       "      <td>1350</td>\n",
       "      <td>1305</td>\n",
       "      <td>1430</td>\n",
       "    </tr>\n",
       "  </tbody>\n",
       "</table>\n",
       "</div>"
      ],
      "text/plain": [
       "                             indicator      Unnamed: 1 Unnamed: 2 Unnamed: 3  \\\n",
       "62  Внешнеторговый оборот               млн.долл.\\nСША    1758.30    1951.50   \n",
       "\n",
       "   Unnamed: 4 Unnamed: 5 Unnamed: 6 Unnamed: 7 Unnamed: 8 Unnamed: 9  \\\n",
       "62       1272       1235       1280       1270       1350       1305   \n",
       "\n",
       "   Unnamed: 10  \n",
       "62        1430  "
      ]
     },
     "execution_count": 9,
     "metadata": {},
     "output_type": "execute_result"
    }
   ],
   "source": [
    "sed[2010][sed[2010]['indicator'].str.replace(\" \",'') == FEATURES[1].replace(\" \",'')]"
   ]
  },
  {
   "cell_type": "code",
   "execution_count": 10,
   "id": "ee2abea9",
   "metadata": {},
   "outputs": [
    {
     "data": {
      "text/html": [
       "<div>\n",
       "<style scoped>\n",
       "    .dataframe tbody tr th:only-of-type {\n",
       "        vertical-align: middle;\n",
       "    }\n",
       "\n",
       "    .dataframe tbody tr th {\n",
       "        vertical-align: top;\n",
       "    }\n",
       "\n",
       "    .dataframe thead th {\n",
       "        text-align: right;\n",
       "    }\n",
       "</style>\n",
       "<table border=\"1\" class=\"dataframe\">\n",
       "  <thead>\n",
       "    <tr style=\"text-align: right;\">\n",
       "      <th></th>\n",
       "      <th>indicator</th>\n",
       "      <th>Unnamed: 1</th>\n",
       "      <th>Unnamed: 2</th>\n",
       "      <th>Unnamed: 3</th>\n",
       "      <th>Unnamed: 4</th>\n",
       "      <th>Unnamed: 5</th>\n",
       "      <th>Unnamed: 6</th>\n",
       "      <th>Unnamed: 7</th>\n",
       "      <th>Unnamed: 8</th>\n",
       "      <th>Unnamed: 9</th>\n",
       "      <th>Unnamed: 10</th>\n",
       "    </tr>\n",
       "  </thead>\n",
       "  <tbody>\n",
       "    <tr>\n",
       "      <th>58</th>\n",
       "      <td>Внешнеторговый оборот</td>\n",
       "      <td>млн.долл.\\nСША</td>\n",
       "      <td>1564.70</td>\n",
       "      <td>1322.80</td>\n",
       "      <td>1515</td>\n",
       "      <td>1447</td>\n",
       "      <td>1550</td>\n",
       "      <td>1475</td>\n",
       "      <td>1600</td>\n",
       "      <td>1513</td>\n",
       "      <td>1665</td>\n",
       "    </tr>\n",
       "  </tbody>\n",
       "</table>\n",
       "</div>"
      ],
      "text/plain": [
       "                             indicator      Unnamed: 1 Unnamed: 2 Unnamed: 3  \\\n",
       "58  Внешнеторговый оборот               млн.долл.\\nСША    1564.70    1322.80   \n",
       "\n",
       "   Unnamed: 4 Unnamed: 5 Unnamed: 6 Unnamed: 7 Unnamed: 8 Unnamed: 9  \\\n",
       "58       1515       1447       1550       1475       1600       1513   \n",
       "\n",
       "   Unnamed: 10  \n",
       "58        1665  "
      ]
     },
     "execution_count": 10,
     "metadata": {},
     "output_type": "execute_result"
    }
   ],
   "source": [
    "sed[2015][sed[2015]['indicator'].str.replace(\" \",'') == FEATURES[1].replace(\" \",'')]"
   ]
  },
  {
   "cell_type": "code",
   "execution_count": 11,
   "id": "923f8b7b",
   "metadata": {},
   "outputs": [
    {
     "data": {
      "text/plain": [
       "'Численностьбезработных,зарегистрированныхвслужбахзанятости'"
      ]
     },
     "execution_count": 11,
     "metadata": {},
     "output_type": "execute_result"
    }
   ],
   "source": [
    "sed[2015]['indicator'].str.replace(\" \",'').iloc[-2]"
   ]
  },
  {
   "cell_type": "code",
   "execution_count": 12,
   "id": "acfb0cc3",
   "metadata": {},
   "outputs": [
    {
     "data": {
      "text/plain": [
       "'Реальныерасполагаемыеденежныедоходынаселения'"
      ]
     },
     "execution_count": 12,
     "metadata": {},
     "output_type": "execute_result"
    }
   ],
   "source": [
    "FEATURES[0].replace(\" \",'')"
   ]
  },
  {
   "cell_type": "code",
   "execution_count": 13,
   "id": "681b4147",
   "metadata": {},
   "outputs": [
    {
     "data": {
      "text/plain": [
       "False"
      ]
     },
     "execution_count": 13,
     "metadata": {},
     "output_type": "execute_result"
    }
   ],
   "source": [
    "FEATURES[1].replace(\" \",'') in sed[2015]['indicator'].str.replace(\" \",'').iloc[-1]"
   ]
  },
  {
   "cell_type": "code",
   "execution_count": 14,
   "id": "d17ed5c6",
   "metadata": {},
   "outputs": [
    {
     "data": {
      "text/plain": [
       "0     False\n",
       "1     False\n",
       "2     False\n",
       "3     False\n",
       "4     False\n",
       "      ...  \n",
       "67    False\n",
       "68    False\n",
       "69    False\n",
       "70    False\n",
       "71    False\n",
       "Name: indicator, Length: 72, dtype: bool"
      ]
     },
     "execution_count": 14,
     "metadata": {},
     "output_type": "execute_result"
    }
   ],
   "source": [
    "sed[2011]['indicator'].str.replace(\" \",'').str.contains(FEATURES[1].replace(\" \",''), regex=False).fillna(False)"
   ]
  },
  {
   "cell_type": "code",
   "execution_count": 15,
   "id": "b797d03e",
   "metadata": {},
   "outputs": [
    {
     "data": {
      "text/plain": [
       "False"
      ]
     },
     "execution_count": 15,
     "metadata": {},
     "output_type": "execute_result"
    }
   ],
   "source": [
    "sed[2011]['indicator'].str.replace(\" \",'').str.contains(FEATURES[1].replace(\" \",''), regex=False).fillna(False).iloc[-1]"
   ]
  },
  {
   "cell_type": "code",
   "execution_count": null,
   "id": "2c800ad8",
   "metadata": {},
   "outputs": [],
   "source": []
  },
  {
   "cell_type": "code",
   "execution_count": 16,
   "id": "6e0b6c9b",
   "metadata": {},
   "outputs": [],
   "source": [
    "for feature in FEATURES:\n",
    "    #print(feature)\n",
    "    tmp = []\n",
    "    for year in years:\n",
    "        #print(year)\n",
    "        try:\n",
    "            tmp.append(sed[year][sed[year]['indicator'].str.replace(\" \",'').str.contains(feature.replace(\" \",''), regex=False).fillna(False)].iloc[:,-2].values[0])\n",
    "        except:\n",
    "            tmp.append(np.nan)\n",
    "    #print(tmp)\n",
    "    features.append(tmp)"
   ]
  },
  {
   "cell_type": "code",
   "execution_count": 17,
   "id": "73e39f68",
   "metadata": {},
   "outputs": [],
   "source": [
    "#features"
   ]
  },
  {
   "cell_type": "code",
   "execution_count": 18,
   "id": "030b99e0",
   "metadata": {},
   "outputs": [],
   "source": [
    "# test = []\n",
    "# for year in years:\n",
    "#     print(year)\n",
    "#     test.append(sed[year][sed[year]['indicator'].str.replace(\" \",'').str.contains(FEATURES[0].replace(\" \",''), regex=False).fillna(False)].iloc[:,-2].values[0])\n",
    "# test"
   ]
  },
  {
   "cell_type": "code",
   "execution_count": 19,
   "id": "7046f575",
   "metadata": {},
   "outputs": [
    {
     "data": {
      "text/html": [
       "<div>\n",
       "<style scoped>\n",
       "    .dataframe tbody tr th:only-of-type {\n",
       "        vertical-align: middle;\n",
       "    }\n",
       "\n",
       "    .dataframe tbody tr th {\n",
       "        vertical-align: top;\n",
       "    }\n",
       "\n",
       "    .dataframe thead th {\n",
       "        text-align: right;\n",
       "    }\n",
       "</style>\n",
       "<table border=\"1\" class=\"dataframe\">\n",
       "  <thead>\n",
       "    <tr style=\"text-align: right;\">\n",
       "      <th></th>\n",
       "      <th>Год</th>\n",
       "      <th>Реальные располагаемые денежные доходы населения</th>\n",
       "      <th>Внешнеторговый оборот</th>\n",
       "      <th>Численность постоянного населения</th>\n",
       "      <th>Инвестиции в основной капитал</th>\n",
       "      <th>Ввод в эксплуатацию жилых домов</th>\n",
       "      <th>Оборот розничной торговли</th>\n",
       "      <th>Объем платных услуг населению</th>\n",
       "      <th>Фонд заработной платы</th>\n",
       "      <th>Численность безработных, зарегистрированных в службах занятости</th>\n",
       "      <th>Уровень зарегистрированной безработицы (к численности экономически активного населения)</th>\n",
       "    </tr>\n",
       "  </thead>\n",
       "  <tbody>\n",
       "    <tr>\n",
       "      <th>0</th>\n",
       "      <td>2010</td>\n",
       "      <td>100.00</td>\n",
       "      <td>1305.00</td>\n",
       "      <td>679.80</td>\n",
       "      <td>19600</td>\n",
       "      <td>150.00</td>\n",
       "      <td>73500</td>\n",
       "      <td>24500</td>\n",
       "      <td>68900</td>\n",
       "      <td>12.60</td>\n",
       "      <td>3.30</td>\n",
       "    </tr>\n",
       "    <tr>\n",
       "      <th>1</th>\n",
       "      <td>2011</td>\n",
       "      <td>101.00</td>\n",
       "      <td>1527.00</td>\n",
       "      <td>677.70</td>\n",
       "      <td>27450</td>\n",
       "      <td>145.00</td>\n",
       "      <td>71400</td>\n",
       "      <td>21800</td>\n",
       "      <td>66200</td>\n",
       "      <td>12.70</td>\n",
       "      <td>3.39</td>\n",
       "    </tr>\n",
       "    <tr>\n",
       "      <th>2</th>\n",
       "      <td>2012</td>\n",
       "      <td>102.00</td>\n",
       "      <td>1995.00</td>\n",
       "      <td>633.50</td>\n",
       "      <td>38610</td>\n",
       "      <td>240.00</td>\n",
       "      <td>89600</td>\n",
       "      <td>24500</td>\n",
       "      <td>72760</td>\n",
       "      <td>9.90</td>\n",
       "      <td>2.66</td>\n",
       "    </tr>\n",
       "    <tr>\n",
       "      <th>3</th>\n",
       "      <td>2013</td>\n",
       "      <td>103.00</td>\n",
       "      <td>2070.00</td>\n",
       "      <td>633.10</td>\n",
       "      <td>44420</td>\n",
       "      <td>299.10</td>\n",
       "      <td>100000</td>\n",
       "      <td>31700</td>\n",
       "      <td>85400</td>\n",
       "      <td>8.20</td>\n",
       "      <td>2.30</td>\n",
       "    </tr>\n",
       "    <tr>\n",
       "      <th>4</th>\n",
       "      <td>2014</td>\n",
       "      <td>102.00</td>\n",
       "      <td>1440.00</td>\n",
       "      <td>631.40</td>\n",
       "      <td>47400</td>\n",
       "      <td>225.00</td>\n",
       "      <td>111000</td>\n",
       "      <td>32600</td>\n",
       "      <td>96500</td>\n",
       "      <td>7.50</td>\n",
       "      <td>2.27</td>\n",
       "    </tr>\n",
       "    <tr>\n",
       "      <th>5</th>\n",
       "      <td>2015</td>\n",
       "      <td>NaN</td>\n",
       "      <td>1513.00</td>\n",
       "      <td>628.20</td>\n",
       "      <td>43890</td>\n",
       "      <td>238.00</td>\n",
       "      <td>116000</td>\n",
       "      <td>35400</td>\n",
       "      <td>90100</td>\n",
       "      <td>6.90</td>\n",
       "      <td>2.21</td>\n",
       "    </tr>\n",
       "    <tr>\n",
       "      <th>6</th>\n",
       "      <td>2016</td>\n",
       "      <td>NaN</td>\n",
       "      <td>1079.80</td>\n",
       "      <td>623.90</td>\n",
       "      <td>43750</td>\n",
       "      <td>252.00</td>\n",
       "      <td>112000</td>\n",
       "      <td>39700</td>\n",
       "      <td>91300</td>\n",
       "      <td>7.50</td>\n",
       "      <td>2.33</td>\n",
       "    </tr>\n",
       "    <tr>\n",
       "      <th>7</th>\n",
       "      <td>2017</td>\n",
       "      <td>NaN</td>\n",
       "      <td>865.00</td>\n",
       "      <td>622.30</td>\n",
       "      <td>44560</td>\n",
       "      <td>260.00</td>\n",
       "      <td>127200</td>\n",
       "      <td>37600</td>\n",
       "      <td>90600</td>\n",
       "      <td>7.80</td>\n",
       "      <td>2.41</td>\n",
       "    </tr>\n",
       "    <tr>\n",
       "      <th>8</th>\n",
       "      <td>2018</td>\n",
       "      <td>NaN</td>\n",
       "      <td>1067.70</td>\n",
       "      <td>619.00</td>\n",
       "      <td>47300</td>\n",
       "      <td>280.00</td>\n",
       "      <td>124800</td>\n",
       "      <td>36600</td>\n",
       "      <td>89700</td>\n",
       "      <td>6.88</td>\n",
       "      <td>2.13</td>\n",
       "    </tr>\n",
       "    <tr>\n",
       "      <th>9</th>\n",
       "      <td>2019</td>\n",
       "      <td>NaN</td>\n",
       "      <td>2015.00</td>\n",
       "      <td>611.30</td>\n",
       "      <td>53500</td>\n",
       "      <td>260.00</td>\n",
       "      <td>136700</td>\n",
       "      <td>40700</td>\n",
       "      <td>102000</td>\n",
       "      <td>5.90</td>\n",
       "      <td>1.93</td>\n",
       "    </tr>\n",
       "    <tr>\n",
       "      <th>10</th>\n",
       "      <td>2020</td>\n",
       "      <td>NaN</td>\n",
       "      <td>2145.00</td>\n",
       "      <td>606.40</td>\n",
       "      <td>51100</td>\n",
       "      <td>292.00</td>\n",
       "      <td>151000</td>\n",
       "      <td>43800</td>\n",
       "      <td>112400</td>\n",
       "      <td>6.20</td>\n",
       "      <td>2.00</td>\n",
       "    </tr>\n",
       "  </tbody>\n",
       "</table>\n",
       "</div>"
      ],
      "text/plain": [
       "     Год  Реальные располагаемые денежные доходы населения  \\\n",
       "0   2010                                            100.00   \n",
       "1   2011                                            101.00   \n",
       "2   2012                                            102.00   \n",
       "3   2013                                            103.00   \n",
       "4   2014                                            102.00   \n",
       "5   2015                                               NaN   \n",
       "6   2016                                               NaN   \n",
       "7   2017                                               NaN   \n",
       "8   2018                                               NaN   \n",
       "9   2019                                               NaN   \n",
       "10  2020                                               NaN   \n",
       "\n",
       "    Внешнеторговый оборот  Численность постоянного населения  \\\n",
       "0                 1305.00                             679.80   \n",
       "1                 1527.00                             677.70   \n",
       "2                 1995.00                             633.50   \n",
       "3                 2070.00                             633.10   \n",
       "4                 1440.00                             631.40   \n",
       "5                 1513.00                             628.20   \n",
       "6                 1079.80                             623.90   \n",
       "7                  865.00                             622.30   \n",
       "8                 1067.70                             619.00   \n",
       "9                 2015.00                             611.30   \n",
       "10                2145.00                             606.40   \n",
       "\n",
       "    Инвестиции в основной капитал  Ввод в эксплуатацию жилых домов  \\\n",
       "0                           19600                           150.00   \n",
       "1                           27450                           145.00   \n",
       "2                           38610                           240.00   \n",
       "3                           44420                           299.10   \n",
       "4                           47400                           225.00   \n",
       "5                           43890                           238.00   \n",
       "6                           43750                           252.00   \n",
       "7                           44560                           260.00   \n",
       "8                           47300                           280.00   \n",
       "9                           53500                           260.00   \n",
       "10                          51100                           292.00   \n",
       "\n",
       "    Оборот розничной торговли  Объем платных услуг населению  \\\n",
       "0                       73500                          24500   \n",
       "1                       71400                          21800   \n",
       "2                       89600                          24500   \n",
       "3                      100000                          31700   \n",
       "4                      111000                          32600   \n",
       "5                      116000                          35400   \n",
       "6                      112000                          39700   \n",
       "7                      127200                          37600   \n",
       "8                      124800                          36600   \n",
       "9                      136700                          40700   \n",
       "10                     151000                          43800   \n",
       "\n",
       "    Фонд заработной платы  \\\n",
       "0                   68900   \n",
       "1                   66200   \n",
       "2                   72760   \n",
       "3                   85400   \n",
       "4                   96500   \n",
       "5                   90100   \n",
       "6                   91300   \n",
       "7                   90600   \n",
       "8                   89700   \n",
       "9                  102000   \n",
       "10                 112400   \n",
       "\n",
       "    Численность безработных, зарегистрированных в службах занятости  \\\n",
       "0                                               12.60                 \n",
       "1                                               12.70                 \n",
       "2                                                9.90                 \n",
       "3                                                8.20                 \n",
       "4                                                7.50                 \n",
       "5                                                6.90                 \n",
       "6                                                7.50                 \n",
       "7                                                7.80                 \n",
       "8                                                6.88                 \n",
       "9                                                5.90                 \n",
       "10                                               6.20                 \n",
       "\n",
       "    Уровень зарегистрированной безработицы (к численности экономически активного населения)  \n",
       "0                                                3.30                                        \n",
       "1                                                3.39                                        \n",
       "2                                                2.66                                        \n",
       "3                                                2.30                                        \n",
       "4                                                2.27                                        \n",
       "5                                                2.21                                        \n",
       "6                                                2.33                                        \n",
       "7                                                2.41                                        \n",
       "8                                                2.13                                        \n",
       "9                                                1.93                                        \n",
       "10                                               2.00                                        "
      ]
     },
     "execution_count": 19,
     "metadata": {},
     "output_type": "execute_result"
    }
   ],
   "source": [
    "dic = {\"Год\": years}\n",
    "dic.update({f'{f}': feature for (f, feature) in zip(FEATURES, features)})\n",
    "df = pd.DataFrame(dic)\n",
    "df"
   ]
  },
  {
   "cell_type": "code",
   "execution_count": 20,
   "id": "394d699d",
   "metadata": {},
   "outputs": [],
   "source": [
    "df.to_csv('./data/features.csv', index=False, encoding='utf-8-sig')"
   ]
  },
  {
   "cell_type": "code",
   "execution_count": null,
   "id": "b919c67b",
   "metadata": {},
   "outputs": [],
   "source": []
  }
 ],
 "metadata": {
  "kernelspec": {
   "display_name": "Python 3",
   "language": "python",
   "name": "python3"
  },
  "language_info": {
   "codemirror_mode": {
    "name": "ipython",
    "version": 3
   },
   "file_extension": ".py",
   "mimetype": "text/x-python",
   "name": "python",
   "nbconvert_exporter": "python",
   "pygments_lexer": "ipython3",
   "version": "3.8.10"
  }
 },
 "nbformat": 4,
 "nbformat_minor": 5
}
