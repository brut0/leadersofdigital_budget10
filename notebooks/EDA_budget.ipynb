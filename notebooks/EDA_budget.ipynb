{
 "cells": [
  {
   "cell_type": "markdown",
   "id": "4d595138",
   "metadata": {},
   "source": [
    "# Анализ планируемых и фактических дохофодов и расходов бюджета республики Карелии за 2010-2020 гг"
   ]
  },
  {
   "cell_type": "markdown",
   "id": "43ac2db3",
   "metadata": {},
   "source": [
    "### Оглавление\n",
    "* [1. Подключение необходимых библиотек](#start)\n",
    "* [2. Загрузка данных](#dataset)\n",
    "* [3. Анализ данных](#eda)\n",
    "* [4. Выводы](#conclusion)"
   ]
  },
  {
   "cell_type": "markdown",
   "id": "b92c5fb8",
   "metadata": {},
   "source": [
    "<a id=\"start\"></a>\n",
    "### 1. Подключение необходимых библиотек"
   ]
  },
  {
   "cell_type": "code",
   "execution_count": 1,
   "id": "increasing-sailing",
   "metadata": {},
   "outputs": [
    {
     "name": "stdout",
     "output_type": "stream",
     "text": [
      "3.3.4\n"
     ]
    }
   ],
   "source": [
    "import numpy as np\n",
    "import pandas as pd\n",
    "import matplotlib.pyplot as plt\n",
    "import seaborn as sns\n",
    "\n",
    "import matplotlib as matplotlib\n",
    "print(matplotlib.__version__)"
   ]
  },
  {
   "cell_type": "code",
   "execution_count": 2,
   "id": "integral-excitement",
   "metadata": {},
   "outputs": [],
   "source": [
    "FIGSIZE = (12,5)\n",
    "FONTSIZE = 14"
   ]
  },
  {
   "cell_type": "code",
   "execution_count": 3,
   "id": "urban-walter",
   "metadata": {},
   "outputs": [],
   "source": [
    "pd.set_option('display.float_format', lambda x: '%.2f' % x)"
   ]
  },
  {
   "cell_type": "markdown",
   "id": "0c567411",
   "metadata": {},
   "source": [
    "<a id=\"dataset\"></a>\n",
    "### 2. Загрузка данных"
   ]
  },
  {
   "cell_type": "markdown",
   "id": "a6aeacac",
   "metadata": {},
   "source": [
    " Годовые отчеты об исполнении бюджета Республики Карелия"
   ]
  },
  {
   "cell_type": "code",
   "execution_count": 4,
   "id": "dimensional-spokesman",
   "metadata": {},
   "outputs": [],
   "source": [
    "PATH = '../data/Годовые отчеты об исполнении бюджета/'\n",
    "AGE_BEGIN = 2010\n",
    "AGE_END = 2020\n",
    "COLUMNS = ['Наименование показателя',\n",
    "           'Консолидированный бюджет субъекта Российской Федерации ',\n",
    "           'Бюджет субъекта Российской Федерации']\n",
    "\n",
    "years = [year for year in range(AGE_BEGIN,AGE_END+1)]\n",
    "profits_actual = {}\n",
    "consumptions_actual = {}\n",
    "\n",
    "for year in years:\n",
    "    if year > 2015:\n",
    "        comma = ','\n",
    "    else:\n",
    "        comma = ''\n",
    "\n",
    "    #\n",
    "    try:\n",
    "        cons = pd.read_excel(f'{PATH}{year}.xlsx', sheet_name=f'расходы (исполнено){comma} {year}', header=1)\n",
    "    except:\n",
    "        cons = pd.read_excel(f'{PATH}{year}.xls', sheet_name=f'расходы (исполнено){comma} {year}', header=1)\n",
    "    #cons = cons.drop(0)\n",
    "    consumptions_actual[year] = cons\n",
    "    consumptions_actual[year].columns = [COLUMNS[0], *consumptions_actual[year].columns[1:-2], *COLUMNS[-2:]]\n",
    "\n",
    "    #\n",
    "    try:\n",
    "        profit = pd.read_excel(f'{PATH}{year}.xlsx', sheet_name=f'доходы (исполнено){comma} {year}', header=0)\n",
    "    except:\n",
    "        profit = pd.read_excel(f'{PATH}{year}.xls', sheet_name=f'доходы (исполнено){comma} {year}', header=0)\n",
    "    profit = profit.drop(0)\n",
    "    profits_actual[year] = profit\n",
    "    profits_actual[year].columns = [COLUMNS[0], *profits_actual[year].columns[1:-2], *COLUMNS[-2:]]"
   ]
  },
  {
   "cell_type": "code",
   "execution_count": 5,
   "id": "79731c77",
   "metadata": {},
   "outputs": [
    {
     "data": {
      "text/html": [
       "<div>\n",
       "<style scoped>\n",
       "    .dataframe tbody tr th:only-of-type {\n",
       "        vertical-align: middle;\n",
       "    }\n",
       "\n",
       "    .dataframe tbody tr th {\n",
       "        vertical-align: top;\n",
       "    }\n",
       "\n",
       "    .dataframe thead th {\n",
       "        text-align: right;\n",
       "    }\n",
       "</style>\n",
       "<table border=\"1\" class=\"dataframe\">\n",
       "  <thead>\n",
       "    <tr style=\"text-align: right;\">\n",
       "      <th></th>\n",
       "      <th>Наименование показателя</th>\n",
       "      <th>Unnamed: 1</th>\n",
       "      <th>Консолидированный бюджет субъекта Российской Федерации</th>\n",
       "      <th>Бюджет субъекта Российской Федерации</th>\n",
       "    </tr>\n",
       "  </thead>\n",
       "  <tbody>\n",
       "    <tr>\n",
       "      <th>0</th>\n",
       "      <td>Расходы бюджета - ИТОГО</td>\n",
       "      <td>х</td>\n",
       "      <td>32339620917.23</td>\n",
       "      <td>25641875414.57</td>\n",
       "    </tr>\n",
       "    <tr>\n",
       "      <th>1</th>\n",
       "      <td>Общегосударственные вопросы</td>\n",
       "      <td>000 0100 0000000 000 000</td>\n",
       "      <td>2591149993.17</td>\n",
       "      <td>1513611835.42</td>\n",
       "    </tr>\n",
       "    <tr>\n",
       "      <th>2</th>\n",
       "      <td>Расходы</td>\n",
       "      <td>000 0100 0000000 000 200</td>\n",
       "      <td>2513380512.60</td>\n",
       "      <td>1478363164.48</td>\n",
       "    </tr>\n",
       "    <tr>\n",
       "      <th>3</th>\n",
       "      <td>Оплата труда и начисления на выплаты по оплате...</td>\n",
       "      <td>000 0100 0000000 000 210</td>\n",
       "      <td>1282779343.89</td>\n",
       "      <td>534614951.03</td>\n",
       "    </tr>\n",
       "    <tr>\n",
       "      <th>4</th>\n",
       "      <td>Заработная плата</td>\n",
       "      <td>000 0100 0000000 000 211</td>\n",
       "      <td>1035814557.55</td>\n",
       "      <td>434153563.87</td>\n",
       "    </tr>\n",
       "    <tr>\n",
       "      <th>...</th>\n",
       "      <td>...</td>\n",
       "      <td>...</td>\n",
       "      <td>...</td>\n",
       "      <td>...</td>\n",
       "    </tr>\n",
       "    <tr>\n",
       "      <th>1161</th>\n",
       "      <td>Перечисления другим бюджетам бюджетной системы...</td>\n",
       "      <td>000 1105 0000000 000 251</td>\n",
       "      <td>1126533200.00</td>\n",
       "      <td>1126533200.00</td>\n",
       "    </tr>\n",
       "    <tr>\n",
       "      <th>1162</th>\n",
       "      <td>Итого внутренних оборотов</td>\n",
       "      <td>000 9700 0000000 000 000</td>\n",
       "      <td>8376695112.03</td>\n",
       "      <td>8396542392.39</td>\n",
       "    </tr>\n",
       "    <tr>\n",
       "      <th>1163</th>\n",
       "      <td>Перечисления другим бюджетам бюджетной системы...</td>\n",
       "      <td>000 9700 0000000 000 251</td>\n",
       "      <td>8365987954.34</td>\n",
       "      <td>8396542392.39</td>\n",
       "    </tr>\n",
       "    <tr>\n",
       "      <th>1164</th>\n",
       "      <td>обслуживание внутренних долговых обязательств</td>\n",
       "      <td>000 9700 0000000 000 231</td>\n",
       "      <td>10707157.69</td>\n",
       "      <td>NaN</td>\n",
       "    </tr>\n",
       "    <tr>\n",
       "      <th>1165</th>\n",
       "      <td>Результат исполнения бюджета (дефицит \"--\", пр...</td>\n",
       "      <td>000 7900 0000000 000 000</td>\n",
       "      <td>-488710604.23</td>\n",
       "      <td>-768434239.12</td>\n",
       "    </tr>\n",
       "  </tbody>\n",
       "</table>\n",
       "<p>1166 rows × 4 columns</p>\n",
       "</div>"
      ],
      "text/plain": [
       "                                Наименование показателя  \\\n",
       "0                               Расходы бюджета - ИТОГО   \n",
       "1                           Общегосударственные вопросы   \n",
       "2                                               Расходы   \n",
       "3     Оплата труда и начисления на выплаты по оплате...   \n",
       "4                                      Заработная плата   \n",
       "...                                                 ...   \n",
       "1161  Перечисления другим бюджетам бюджетной системы...   \n",
       "1162                          Итого внутренних оборотов   \n",
       "1163  Перечисления другим бюджетам бюджетной системы...   \n",
       "1164      обслуживание внутренних долговых обязательств   \n",
       "1165  Результат исполнения бюджета (дефицит \"--\", пр...   \n",
       "\n",
       "                    Unnamed: 1  \\\n",
       "0                            х   \n",
       "1     000 0100 0000000 000 000   \n",
       "2     000 0100 0000000 000 200   \n",
       "3     000 0100 0000000 000 210   \n",
       "4     000 0100 0000000 000 211   \n",
       "...                        ...   \n",
       "1161  000 1105 0000000 000 251   \n",
       "1162  000 9700 0000000 000 000   \n",
       "1163  000 9700 0000000 000 251   \n",
       "1164  000 9700 0000000 000 231   \n",
       "1165  000 7900 0000000 000 000   \n",
       "\n",
       "      Консолидированный бюджет субъекта Российской Федерации   \\\n",
       "0                                        32339620917.23         \n",
       "1                                         2591149993.17         \n",
       "2                                         2513380512.60         \n",
       "3                                         1282779343.89         \n",
       "4                                         1035814557.55         \n",
       "...                                                 ...         \n",
       "1161                                      1126533200.00         \n",
       "1162                                      8376695112.03         \n",
       "1163                                      8365987954.34         \n",
       "1164                                        10707157.69         \n",
       "1165                                      -488710604.23         \n",
       "\n",
       "      Бюджет субъекта Российской Федерации  \n",
       "0                           25641875414.57  \n",
       "1                            1513611835.42  \n",
       "2                            1478363164.48  \n",
       "3                             534614951.03  \n",
       "4                             434153563.87  \n",
       "...                                    ...  \n",
       "1161                         1126533200.00  \n",
       "1162                         8396542392.39  \n",
       "1163                         8396542392.39  \n",
       "1164                                   NaN  \n",
       "1165                         -768434239.12  \n",
       "\n",
       "[1166 rows x 4 columns]"
      ]
     },
     "execution_count": 5,
     "metadata": {},
     "output_type": "execute_result"
    }
   ],
   "source": [
    "consumptions_actual[2010]"
   ]
  },
  {
   "cell_type": "markdown",
   "id": "9bc57c14",
   "metadata": {},
   "source": [
    "Отчёты об исполнении бюджета Республики Карелия"
   ]
  },
  {
   "cell_type": "code",
   "execution_count": 6,
   "id": "mexican-inventory",
   "metadata": {},
   "outputs": [],
   "source": [
    "PATH = '../data/Первоначальные бюджетные данные/'\n",
    "AGE_BEGIN = 2010\n",
    "AGE_END = 2020\n",
    "\n",
    "years = [year for year in range(AGE_BEGIN,AGE_END+1)]\n",
    "profits_planned = {}\n",
    "consumptions_planned = {}\n",
    "\n",
    "for year in years:\n",
    "    if year > 2017:\n",
    "        comma = ','\n",
    "    else:\n",
    "        comma = ''\n",
    "        \n",
    "    #\n",
    "    try:\n",
    "        cons = pd.read_excel(f'{PATH}{year}.xlsx', sheet_name=f'расходы (план){comma} {year}', header=1)\n",
    "    except:\n",
    "        cons = pd.read_excel(f'{PATH}{year}.xls', sheet_name=f'расходы (план){comma} {year}', header=1)\n",
    "    cons = cons.drop(0)\n",
    "    consumptions_planned[year] = cons\n",
    "    consumptions_planned[year].columns = [COLUMNS[0], *consumptions_planned[year].columns[1:-2], *COLUMNS[-2:]]\n",
    "\n",
    "    #\n",
    "    try:\n",
    "        profit = pd.read_excel(f'{PATH}{year}.xlsx', sheet_name=f'доходы (план){comma} {year}', header=0) \n",
    "    except:\n",
    "        profit = pd.read_excel(f'{PATH}{year}.xls', sheet_name=f'доходы (план){comma} {year}', header=0)\n",
    "    profit = profit.drop(0)\n",
    "    profits_planned[year] = profit\n",
    "    profits_planned[year].columns = [COLUMNS[0], *profits_planned[year].columns[1:-2], *COLUMNS[-2:]]"
   ]
  },
  {
   "cell_type": "code",
   "execution_count": 7,
   "id": "ccc6e99a",
   "metadata": {},
   "outputs": [
    {
     "data": {
      "text/html": [
       "<div>\n",
       "<style scoped>\n",
       "    .dataframe tbody tr th:only-of-type {\n",
       "        vertical-align: middle;\n",
       "    }\n",
       "\n",
       "    .dataframe tbody tr th {\n",
       "        vertical-align: top;\n",
       "    }\n",
       "\n",
       "    .dataframe thead th {\n",
       "        text-align: right;\n",
       "    }\n",
       "</style>\n",
       "<table border=\"1\" class=\"dataframe\">\n",
       "  <thead>\n",
       "    <tr style=\"text-align: right;\">\n",
       "      <th></th>\n",
       "      <th>Наименование показателя</th>\n",
       "      <th>3</th>\n",
       "      <th>Консолидированный бюджет субъекта Российской Федерации</th>\n",
       "      <th>Бюджет субъекта Российской Федерации</th>\n",
       "    </tr>\n",
       "  </thead>\n",
       "  <tbody>\n",
       "    <tr>\n",
       "      <th>1</th>\n",
       "      <td>Расходы бюджета - ИТОГО</td>\n",
       "      <td>000 9600 0000000 000 000</td>\n",
       "      <td>27267621558.77</td>\n",
       "      <td>20214325100.00</td>\n",
       "    </tr>\n",
       "    <tr>\n",
       "      <th>2</th>\n",
       "      <td>Общегосударственные вопросы</td>\n",
       "      <td>000 0100 0000000 000 000</td>\n",
       "      <td>2768042966.64</td>\n",
       "      <td>1653416500.00</td>\n",
       "    </tr>\n",
       "    <tr>\n",
       "      <th>3</th>\n",
       "      <td>Расходы</td>\n",
       "      <td>000 0100 0000000 000 200</td>\n",
       "      <td>2710194657.21</td>\n",
       "      <td>1638289354.57</td>\n",
       "    </tr>\n",
       "    <tr>\n",
       "      <th>4</th>\n",
       "      <td>Оплата труда и начисления на выплаты по оплате...</td>\n",
       "      <td>000 0100 0000000 000 210</td>\n",
       "      <td>1247072609.45</td>\n",
       "      <td>508065946.52</td>\n",
       "    </tr>\n",
       "    <tr>\n",
       "      <th>5</th>\n",
       "      <td>Заработная плата</td>\n",
       "      <td>000 0100 0000000 000 211</td>\n",
       "      <td>987022253.76</td>\n",
       "      <td>404548227.00</td>\n",
       "    </tr>\n",
       "    <tr>\n",
       "      <th>...</th>\n",
       "      <td>...</td>\n",
       "      <td>...</td>\n",
       "      <td>...</td>\n",
       "      <td>...</td>\n",
       "    </tr>\n",
       "    <tr>\n",
       "      <th>1083</th>\n",
       "      <td>Перечисления другим бюджетам бюджетной системы...</td>\n",
       "      <td>000 1105 0000000 000 251</td>\n",
       "      <td>1134000000.00</td>\n",
       "      <td>1134000000.00</td>\n",
       "    </tr>\n",
       "    <tr>\n",
       "      <th>1084</th>\n",
       "      <td>Итого внутренних оборотов</td>\n",
       "      <td>000 9700 0000000 000 000</td>\n",
       "      <td>6443451362.00</td>\n",
       "      <td>6973221200.00</td>\n",
       "    </tr>\n",
       "    <tr>\n",
       "      <th>1085</th>\n",
       "      <td>Перечисления другим бюджетам бюджетной системы...</td>\n",
       "      <td>000 9700 0000000 000 251</td>\n",
       "      <td>6434006362.00</td>\n",
       "      <td>6973221200.00</td>\n",
       "    </tr>\n",
       "    <tr>\n",
       "      <th>1086</th>\n",
       "      <td>обслуживание внутренних долговых обязательств</td>\n",
       "      <td>000 9700 0000000 000 231</td>\n",
       "      <td>9445000.00</td>\n",
       "      <td>NaN</td>\n",
       "    </tr>\n",
       "    <tr>\n",
       "      <th>1087</th>\n",
       "      <td>Результат исполнения бюджета (дефицит \"--\", пр...</td>\n",
       "      <td>000 7900 0000000 000 000</td>\n",
       "      <td>-2013589763.27</td>\n",
       "      <td>-1485496900.00</td>\n",
       "    </tr>\n",
       "  </tbody>\n",
       "</table>\n",
       "<p>1087 rows × 4 columns</p>\n",
       "</div>"
      ],
      "text/plain": [
       "                                Наименование показателя  \\\n",
       "1                               Расходы бюджета - ИТОГО   \n",
       "2                           Общегосударственные вопросы   \n",
       "3                                               Расходы   \n",
       "4     Оплата труда и начисления на выплаты по оплате...   \n",
       "5                                      Заработная плата   \n",
       "...                                                 ...   \n",
       "1083  Перечисления другим бюджетам бюджетной системы...   \n",
       "1084                          Итого внутренних оборотов   \n",
       "1085  Перечисления другим бюджетам бюджетной системы...   \n",
       "1086      обслуживание внутренних долговых обязательств   \n",
       "1087  Результат исполнения бюджета (дефицит \"--\", пр...   \n",
       "\n",
       "                             3  \\\n",
       "1     000 9600 0000000 000 000   \n",
       "2     000 0100 0000000 000 000   \n",
       "3     000 0100 0000000 000 200   \n",
       "4     000 0100 0000000 000 210   \n",
       "5     000 0100 0000000 000 211   \n",
       "...                        ...   \n",
       "1083  000 1105 0000000 000 251   \n",
       "1084  000 9700 0000000 000 000   \n",
       "1085  000 9700 0000000 000 251   \n",
       "1086  000 9700 0000000 000 231   \n",
       "1087  000 7900 0000000 000 000   \n",
       "\n",
       "      Консолидированный бюджет субъекта Российской Федерации   \\\n",
       "1                                        27267621558.77         \n",
       "2                                         2768042966.64         \n",
       "3                                         2710194657.21         \n",
       "4                                         1247072609.45         \n",
       "5                                          987022253.76         \n",
       "...                                                 ...         \n",
       "1083                                      1134000000.00         \n",
       "1084                                      6443451362.00         \n",
       "1085                                      6434006362.00         \n",
       "1086                                         9445000.00         \n",
       "1087                                     -2013589763.27         \n",
       "\n",
       "      Бюджет субъекта Российской Федерации  \n",
       "1                           20214325100.00  \n",
       "2                            1653416500.00  \n",
       "3                            1638289354.57  \n",
       "4                             508065946.52  \n",
       "5                             404548227.00  \n",
       "...                                    ...  \n",
       "1083                         1134000000.00  \n",
       "1084                         6973221200.00  \n",
       "1085                         6973221200.00  \n",
       "1086                                   NaN  \n",
       "1087                        -1485496900.00  \n",
       "\n",
       "[1087 rows x 4 columns]"
      ]
     },
     "execution_count": 7,
     "metadata": {},
     "output_type": "execute_result"
    }
   ],
   "source": [
    "consumptions_planned[2010]"
   ]
  },
  {
   "cell_type": "code",
   "execution_count": 8,
   "id": "3fc44d1e",
   "metadata": {},
   "outputs": [
    {
     "data": {
      "text/plain": [
       "Бюджет субъекта Российской Федерации                       235\n",
       "Консолидированный бюджет субъекта Российской Федерации      28\n",
       "Наименование показателя                                      0\n",
       "Unnamed: 1                                                   0\n",
       "dtype: int64"
      ]
     },
     "execution_count": 8,
     "metadata": {},
     "output_type": "execute_result"
    }
   ],
   "source": [
    "consumptions_actual[2010].isnull().sum().sort_values(ascending=False)"
   ]
  },
  {
   "cell_type": "markdown",
   "id": "e459c7d9",
   "metadata": {},
   "source": [
    "Наблюдаем пропуски в данных. Это надо иметь в виду при дальнейшей обработке"
   ]
  },
  {
   "cell_type": "markdown",
   "id": "43475d68",
   "metadata": {},
   "source": [
    "<a id=\"eda\"></a>\n",
    "### 3. Исследовательский анализ данных"
   ]
  },
  {
   "cell_type": "markdown",
   "id": "8c170570",
   "metadata": {},
   "source": [
    "Расммотрим планируемые и фактические консолидированный доходы и расходы бюджет субъекта Российской Федерации"
   ]
  },
  {
   "cell_type": "code",
   "execution_count": 9,
   "id": "coated-deficit",
   "metadata": {
    "scrolled": true
   },
   "outputs": [],
   "source": [
    "profit_a = [profits_actual[y].iloc[0,-2] for y in profits_actual]\n",
    "cons_a = [consumptions_actual[y].iloc[0,-2] for y in consumptions_actual]\n",
    "cons_p = [consumptions_planned[y].iloc[0,-2] for y in consumptions_planned]\n",
    "profit_p = [profits_planned[y].iloc[0,-2] for y in profits_planned]"
   ]
  },
  {
   "cell_type": "markdown",
   "id": "3c8e155b",
   "metadata": {},
   "source": [
    "Планируемые расходы и доходы бюджета"
   ]
  },
  {
   "cell_type": "code",
   "execution_count": 10,
   "id": "hollywood-finder",
   "metadata": {},
   "outputs": [
    {
     "data": {
      "image/png": "[encoded data removed]",
      "text/plain": [
       "<Figure size 1008x360 with 2 Axes>"
      ]
     },
     "metadata": {
      "needs_background": "light"
     },
     "output_type": "display_data"
    }
   ],
   "source": [
    "plt.figure(figsize=(14,5))\n",
    "plt.subplots_adjust(hspace=0.4, wspace=0.4)\n",
    "plt.subplot(1, 2, 1)\n",
    "g = sns.barplot(x=years, y=profit_p, palette=\"Blues_d\")\n",
    "g.set(xlabel='Год', ylabel='Доходы')\n",
    "plt.ticklabel_format(style='plain', axis='y')\n",
    "plt.subplot(1, 2, 2)\n",
    "g = sns.barplot(x=years, y=cons_p, palette=\"Blues_d\")\n",
    "g.set(xlabel='Год', ylabel='Расходы')\n",
    "plt.ticklabel_format(style='plain', axis='y')\n",
    "plt.show()"
   ]
  },
  {
   "cell_type": "code",
   "execution_count": 11,
   "id": "771ae686",
   "metadata": {},
   "outputs": [
    {
     "name": "stdout",
     "output_type": "stream",
     "text": [
      "Рост планируемых доходов с 2010 по 2020 составил: 258.64 %\n",
      "Рост планируемых расходов с 2010 по 2020 составил: 248.95 %\n"
     ]
    }
   ],
   "source": [
    "print(f\"Рост планируемых доходов с {AGE_BEGIN} по {AGE_END} составил: {profit_p[AGE_END-AGE_BEGIN]/profit_p[0]*100:.2f} %\")\n",
    "print(f\"Рост планируемых расходов с {AGE_BEGIN} по {AGE_END} составил: {cons_p[AGE_END-AGE_BEGIN]/cons_p[0]*100:.2f} %\")"
   ]
  },
  {
   "cell_type": "markdown",
   "id": "30d1497d",
   "metadata": {},
   "source": [
    "Фактические расходы и доходы бюджета"
   ]
  },
  {
   "cell_type": "code",
   "execution_count": 12,
   "id": "8106f34f",
   "metadata": {
    "scrolled": true
   },
   "outputs": [
    {
     "data": {
      "image/png": "[encoded data removed]",
      "text/plain": [
       "<Figure size 1008x360 with 2 Axes>"
      ]
     },
     "metadata": {
      "needs_background": "light"
     },
     "output_type": "display_data"
    }
   ],
   "source": [
    "plt.figure(figsize=(14,5))\n",
    "plt.subplots_adjust(hspace=0.4, wspace=0.4)\n",
    "plt.subplot(1, 2, 1)\n",
    "g = sns.barplot(x=years, y=profit_a, palette=\"Blues_d\")\n",
    "g.set(xlabel='Год', ylabel='Доходы')\n",
    "plt.ticklabel_format(style='plain', axis='y')\n",
    "plt.subplot(1, 2, 2)\n",
    "g = sns.barplot(x=years, y=cons_a, palette=\"Blues_d\")\n",
    "g.set(xlabel='Год', ylabel='Расходы')\n",
    "plt.ticklabel_format(style='plain', axis='y')\n",
    "plt.arrow(0, 0, 0.5, 0.5, head_width=0.05, head_length=0.1, fc='k', ec='k')\n",
    "plt.show()"
   ]
  },
  {
   "cell_type": "code",
   "execution_count": 13,
   "id": "fb0dbaa6",
   "metadata": {},
   "outputs": [
    {
     "name": "stdout",
     "output_type": "stream",
     "text": [
      "Рост планируемых доходов с 2010 по 2020 составил: 214.07 %\n",
      "Рост планируемых расходов с 2010 по 2020 составил: 231.95 %\n"
     ]
    }
   ],
   "source": [
    "print(f\"Рост планируемых доходов с {AGE_BEGIN} по {AGE_END} составил: {profit_a[AGE_END-AGE_BEGIN]/profit_a[0]*100:.2f} %\")\n",
    "print(f\"Рост планируемых расходов с {AGE_BEGIN} по {AGE_END} составил: {cons_a[AGE_END-AGE_BEGIN]/cons_a[0]*100:.2f} %\")"
   ]
  },
  {
   "cell_type": "markdown",
   "id": "9298c907",
   "metadata": {},
   "source": [
    "Изменение фактических расходов относительно планируемых"
   ]
  },
  {
   "cell_type": "code",
   "execution_count": 14,
   "id": "f7dc5f6e",
   "metadata": {},
   "outputs": [
    {
     "data": {
      "image/png": "[encoded data removed]",
      "text/plain": [
       "<Figure size 504x360 with 1 Axes>"
      ]
     },
     "metadata": {
      "needs_background": "light"
     },
     "output_type": "display_data"
    }
   ],
   "source": [
    "plt.figure(figsize=(7,5))\n",
    "g = sns.barplot(x=years, y=[(a/p-1)*100 for p,a in zip(cons_p,cons_a)], color='#3973ac')\n",
    "g.set(xlabel='Год', ylabel='Изменение в %')\n",
    "plt.title('Расходы бюджета')\n",
    "plt.show()"
   ]
  },
  {
   "cell_type": "code",
   "execution_count": 15,
   "id": "0d8fda9e",
   "metadata": {},
   "outputs": [
    {
     "data": {
      "image/png": "[encoded data removed]",
      "text/plain": [
       "<Figure size 504x360 with 1 Axes>"
      ]
     },
     "metadata": {
      "needs_background": "light"
     },
     "output_type": "display_data"
    }
   ],
   "source": [
    "plt.figure(figsize=(7,5))\n",
    "g = sns.barplot(x=years, y=[(a/p-1)*100 for p,a in zip(profit_p,profit_a)], color='#3973ac')\n",
    "g.set(xlabel='Год', ylabel='Изменение в %')\n",
    "plt.title('Доходы бюджета')\n",
    "plt.show()"
   ]
  },
  {
   "cell_type": "markdown",
   "id": "e9bed625",
   "metadata": {},
   "source": [
    "Сравнение планируемых и фактических доходов и расходов бюджета"
   ]
  },
  {
   "cell_type": "code",
   "execution_count": 16,
   "id": "multiple-starter",
   "metadata": {},
   "outputs": [],
   "source": [
    "def plot_compare_plan_actual(plan=None, actual=None, title=None):\n",
    "    width = 0.4  # the width of the bars\n",
    "    x = np.arange(len(years))\n",
    "\n",
    "    fig, ax = plt.subplots(figsize=FIGSIZE)\n",
    "    rects1 = ax.bar(x - width/2,  plan, width, label='Планируемые')\n",
    "    rects2 = ax.bar(x + width/2, actual, width, label='Фактические')\n",
    "    #ax.plot(x, actual)\n",
    "\n",
    "    # Add some text for labels, title and custom x-axis tick labels, etc.\n",
    "    ax.set_ylabel('руб', fontsize=FONTSIZE+2)\n",
    "    ax.set_xlabel('год', fontsize=FONTSIZE+2)\n",
    "\n",
    "    ax.set_title(title, fontsize=FONTSIZE+4)\n",
    "    ax.set_xticks(x)\n",
    "    ax.set_xticklabels([str(y) for y in years], fontsize=FONTSIZE)\n",
    "    #ax.set_yticklabels(fontsize=FONTSIZE)\n",
    "    ax.legend()\n",
    "\n",
    "    rects = ax.patches\n",
    "\n",
    "    # Make some labels.\n",
    "    labels = [f\"{(a/p-1)*100:.2f}%\" for p,a in zip(plan*2,actual*2)]\n",
    "\n",
    "    for i, (rect, label) in enumerate(zip(rects, labels)):\n",
    "        if i%2:\n",
    "            continue\n",
    "        height = rect.get_height()\n",
    "        ax.text(\n",
    "            rect.get_x() + rect.get_width(), height + 500, label, ha=\"center\", va=\"bottom\", fontsize=FONTSIZE+2\n",
    "        )\n",
    "\n",
    "    fig.tight_layout()\n",
    "\n",
    "    plt.show()"
   ]
  },
  {
   "cell_type": "code",
   "execution_count": 17,
   "id": "alternate-violation",
   "metadata": {},
   "outputs": [
    {
     "data": {
      "image/png": "[encoded data removed]",
      "text/plain": [
       "<Figure size 864x360 with 1 Axes>"
      ]
     },
     "metadata": {
      "needs_background": "light"
     },
     "output_type": "display_data"
    }
   ],
   "source": [
    "plot_compare_plan_actual(profit_p, profit_a, 'Консолидированные доходы бюджета')"
   ]
  },
  {
   "cell_type": "code",
   "execution_count": 18,
   "id": "swedish-cement",
   "metadata": {},
   "outputs": [
    {
     "data": {
      "image/png": "[encoded data removed]",
      "text/plain": [
       "<Figure size 864x360 with 1 Axes>"
      ]
     },
     "metadata": {
      "needs_background": "light"
     },
     "output_type": "display_data"
    }
   ],
   "source": [
    "plot_compare_plan_actual(cons_p, cons_a, 'Консолидированные расходы бюджета')"
   ]
  },
  {
   "cell_type": "markdown",
   "id": "d2218722",
   "metadata": {},
   "source": [
    "<a id=\"conclusion\"></a>\n",
    "### 4. Выводы\n",
    "\n",
    "За рассмотренное десятилетие, фактические расходы и доходы ежегодно отличаются в большую сторону по сравнению с планируемыми.  \n",
    "Максимум роста фактических доходов: 26.12% в 2011 году  \n",
    "Максимум роста фактических расходов: 18.6% в 2010 году\n",
    "\n",
    "Одним из преимуществ разрабатываемой аналитической системы должно быть повышение качества бюджетного планирования, что уменьшит количество изменений в планируемый бюджет. "
   ]
  }
 ],
 "metadata": {
  "kernelspec": {
   "display_name": "Python 3",
   "language": "python",
   "name": "python3"
  },
  "language_info": {
   "codemirror_mode": {
    "name": "ipython",
    "version": 3
   },
   "file_extension": ".py",
   "mimetype": "text/x-python",
   "name": "python",
   "nbconvert_exporter": "python",
   "pygments_lexer": "ipython3",
   "version": "3.8.10"
  }
 },
 "nbformat": 4,
 "nbformat_minor": 5
}
