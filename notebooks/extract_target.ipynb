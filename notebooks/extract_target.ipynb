{
 "cells": [
  {
   "cell_type": "code",
   "execution_count": 1,
   "id": "varied-litigation",
   "metadata": {},
   "outputs": [
    {
     "name": "stdout",
     "output_type": "stream",
     "text": [
      "3.3.4\n"
     ]
    }
   ],
   "source": [
    "import numpy as np\n",
    "import pandas as pd\n",
    "import matplotlib.pyplot as plt\n",
    "\n",
    "import matplotlib as matplotlib\n",
    "print(matplotlib.__version__)"
   ]
  },
  {
   "cell_type": "code",
   "execution_count": 2,
   "id": "administrative-tomorrow",
   "metadata": {},
   "outputs": [],
   "source": [
    "pd.set_option('display.float_format', lambda x: '%.2f' % x)"
   ]
  },
  {
   "cell_type": "code",
   "execution_count": 3,
   "id": "thirty-brass",
   "metadata": {},
   "outputs": [],
   "source": [
    "FIGSIZE = (12,5)"
   ]
  },
  {
   "cell_type": "code",
   "execution_count": 4,
   "id": "varied-winner",
   "metadata": {},
   "outputs": [],
   "source": [
    "AGE_BEGIN = 2010\n",
    "AGE_END = 2020\n",
    "years = [year for year in range(AGE_BEGIN,AGE_END+1)]\n",
    "\n",
    "TARGET_IND = 'Налог на доходы физических лиц'\n",
    "TARGET_ORG = 'Налог на прибыль организаций'"
   ]
  },
  {
   "cell_type": "code",
   "execution_count": 5,
   "id": "frozen-indianapolis",
   "metadata": {},
   "outputs": [],
   "source": [
    "PATH = '../data/Годовые отчеты об исполнении бюджета/'\n",
    "\n",
    "profits = {}\n",
    "\n",
    "for year in years:\n",
    "    if year > 2015:\n",
    "         comma = ','\n",
    "    else:\n",
    "        comma = ''\n",
    "\n",
    "    # \n",
    "    profit = pd.read_excel(f'{PATH}{year}.xlsx', sheet_name=f'доходы (исполнено){comma} {year}', header=0)\n",
    "    profit = profit.drop(0)\n",
    "    profits[year] = profit"
   ]
  },
  {
   "cell_type": "code",
   "execution_count": 6,
   "id": "collected-measure",
   "metadata": {},
   "outputs": [],
   "source": [
    "for year in years:\n",
    "    profits[year].rename(columns={f'{profits[year].columns[0]}':'name'}, inplace=True)"
   ]
  },
  {
   "cell_type": "code",
   "execution_count": 7,
   "id": "assumed-fifty",
   "metadata": {},
   "outputs": [
    {
     "data": {
      "text/plain": [
       "[7721641673.21,\n",
       " 8449950600.7,\n",
       " 9230786186.74,\n",
       " 10112982845.2,\n",
       " 10463556560.7,\n",
       " 10131384437.07,\n",
       " 10804668232.8,\n",
       " 11136958600.58,\n",
       " 12708629464.61,\n",
       " 13288923303.12,\n",
       " 14636359614.57]"
      ]
     },
     "execution_count": 7,
     "metadata": {},
     "output_type": "execute_result"
    }
   ],
   "source": [
    "targets_ind = [profits[year][(profits[year]['name'].str.strip() == TARGET_IND)].iloc[:,-2].values[0] for year in years]\n",
    "targets_ind"
   ]
  },
  {
   "cell_type": "code",
   "execution_count": 8,
   "id": "black-speed",
   "metadata": {
    "scrolled": true
   },
   "outputs": [
    {
     "data": {
      "text/plain": [
       "<BarContainer object of 11 artists>"
      ]
     },
     "execution_count": 8,
     "metadata": {},
     "output_type": "execute_result"
    },
    {
     "data": {
      "image/png": "[encoded data removed]",
      "text/plain": [
       "<Figure size 432x288 with 1 Axes>"
      ]
     },
     "metadata": {
      "needs_background": "light"
     },
     "output_type": "display_data"
    }
   ],
   "source": [
    "plt.bar(years, targets_ind)"
   ]
  },
  {
   "cell_type": "code",
   "execution_count": 9,
   "id": "concerned-munich",
   "metadata": {},
   "outputs": [
    {
     "data": {
      "text/plain": [
       "[3980212142.4,\n",
       " 6262562069.63,\n",
       " 5279887784.7,\n",
       " 2200021502.01,\n",
       " 1837840442.62,\n",
       " 3114014266.32,\n",
       " 4280042099.75,\n",
       " 4022683492.19,\n",
       " 8128882485.27,\n",
       " 8162340492.33,\n",
       " 5058407816.68]"
      ]
     },
     "execution_count": 9,
     "metadata": {},
     "output_type": "execute_result"
    }
   ],
   "source": [
    "targets_org = [profits[year][(profits[year]['name'].str.strip() == TARGET_ORG)].iloc[:,-2].values[0] for year in years]\n",
    "targets_org"
   ]
  },
  {
   "cell_type": "code",
   "execution_count": 10,
   "id": "relevant-marks",
   "metadata": {},
   "outputs": [
    {
     "data": {
      "text/plain": [
       "<BarContainer object of 11 artists>"
      ]
     },
     "execution_count": 10,
     "metadata": {},
     "output_type": "execute_result"
    },
    {
     "data": {
      "image/png": "[encoded data removed]",
      "text/plain": [
       "<Figure size 432x288 with 1 Axes>"
      ]
     },
     "metadata": {
      "needs_background": "light"
     },
     "output_type": "display_data"
    }
   ],
   "source": [
    "plt.bar(years, targets_org)"
   ]
  },
  {
   "cell_type": "code",
   "execution_count": 11,
   "id": "858946c0",
   "metadata": {},
   "outputs": [],
   "source": [
    "df = pd.DataFrame({'Год': years, TARGET_IND: targets_ind, TARGET_ORG: targets_org})"
   ]
  },
  {
   "cell_type": "code",
   "execution_count": 12,
   "id": "94fbe226",
   "metadata": {},
   "outputs": [
    {
     "data": {
      "text/html": [
       "<div>\n",
       "<style scoped>\n",
       "    .dataframe tbody tr th:only-of-type {\n",
       "        vertical-align: middle;\n",
       "    }\n",
       "\n",
       "    .dataframe tbody tr th {\n",
       "        vertical-align: top;\n",
       "    }\n",
       "\n",
       "    .dataframe thead th {\n",
       "        text-align: right;\n",
       "    }\n",
       "</style>\n",
       "<table border=\"1\" class=\"dataframe\">\n",
       "  <thead>\n",
       "    <tr style=\"text-align: right;\">\n",
       "      <th></th>\n",
       "      <th>Год</th>\n",
       "      <th>Налог на доходы физических лиц</th>\n",
       "      <th>Налог на прибыль организаций</th>\n",
       "    </tr>\n",
       "  </thead>\n",
       "  <tbody>\n",
       "    <tr>\n",
       "      <th>0</th>\n",
       "      <td>2010</td>\n",
       "      <td>7721641673.21</td>\n",
       "      <td>3980212142.40</td>\n",
       "    </tr>\n",
       "    <tr>\n",
       "      <th>1</th>\n",
       "      <td>2011</td>\n",
       "      <td>8449950600.70</td>\n",
       "      <td>6262562069.63</td>\n",
       "    </tr>\n",
       "    <tr>\n",
       "      <th>2</th>\n",
       "      <td>2012</td>\n",
       "      <td>9230786186.74</td>\n",
       "      <td>5279887784.70</td>\n",
       "    </tr>\n",
       "    <tr>\n",
       "      <th>3</th>\n",
       "      <td>2013</td>\n",
       "      <td>10112982845.20</td>\n",
       "      <td>2200021502.01</td>\n",
       "    </tr>\n",
       "    <tr>\n",
       "      <th>4</th>\n",
       "      <td>2014</td>\n",
       "      <td>10463556560.70</td>\n",
       "      <td>1837840442.62</td>\n",
       "    </tr>\n",
       "    <tr>\n",
       "      <th>5</th>\n",
       "      <td>2015</td>\n",
       "      <td>10131384437.07</td>\n",
       "      <td>3114014266.32</td>\n",
       "    </tr>\n",
       "    <tr>\n",
       "      <th>6</th>\n",
       "      <td>2016</td>\n",
       "      <td>10804668232.80</td>\n",
       "      <td>4280042099.75</td>\n",
       "    </tr>\n",
       "    <tr>\n",
       "      <th>7</th>\n",
       "      <td>2017</td>\n",
       "      <td>11136958600.58</td>\n",
       "      <td>4022683492.19</td>\n",
       "    </tr>\n",
       "    <tr>\n",
       "      <th>8</th>\n",
       "      <td>2018</td>\n",
       "      <td>12708629464.61</td>\n",
       "      <td>8128882485.27</td>\n",
       "    </tr>\n",
       "    <tr>\n",
       "      <th>9</th>\n",
       "      <td>2019</td>\n",
       "      <td>13288923303.12</td>\n",
       "      <td>8162340492.33</td>\n",
       "    </tr>\n",
       "    <tr>\n",
       "      <th>10</th>\n",
       "      <td>2020</td>\n",
       "      <td>14636359614.57</td>\n",
       "      <td>5058407816.68</td>\n",
       "    </tr>\n",
       "  </tbody>\n",
       "</table>\n",
       "</div>"
      ],
      "text/plain": [
       "     Год  Налог на доходы физических лиц  Налог на прибыль организаций\n",
       "0   2010                   7721641673.21                 3980212142.40\n",
       "1   2011                   8449950600.70                 6262562069.63\n",
       "2   2012                   9230786186.74                 5279887784.70\n",
       "3   2013                  10112982845.20                 2200021502.01\n",
       "4   2014                  10463556560.70                 1837840442.62\n",
       "5   2015                  10131384437.07                 3114014266.32\n",
       "6   2016                  10804668232.80                 4280042099.75\n",
       "7   2017                  11136958600.58                 4022683492.19\n",
       "8   2018                  12708629464.61                 8128882485.27\n",
       "9   2019                  13288923303.12                 8162340492.33\n",
       "10  2020                  14636359614.57                 5058407816.68"
      ]
     },
     "execution_count": 12,
     "metadata": {},
     "output_type": "execute_result"
    }
   ],
   "source": [
    "df"
   ]
  },
  {
   "cell_type": "code",
   "execution_count": 13,
   "id": "genetic-fourth",
   "metadata": {},
   "outputs": [],
   "source": [
    "df[[TARGET_IND, TARGET_ORG]] = df[[TARGET_IND, TARGET_ORG]].apply(lambda x: x/1000000)"
   ]
  },
  {
   "cell_type": "code",
   "execution_count": 14,
   "id": "1d6c015f",
   "metadata": {},
   "outputs": [],
   "source": [
    "df.to_csv('../data/target.csv', index=False, encoding='utf-8-sig')"
   ]
  },
  {
   "cell_type": "code",
   "execution_count": null,
   "id": "45fec684",
   "metadata": {},
   "outputs": [],
   "source": []
  }
 ],
 "metadata": {
  "kernelspec": {
   "display_name": "Python 3",
   "language": "python",
   "name": "python3"
  },
  "language_info": {
   "codemirror_mode": {
    "name": "ipython",
    "version": 3
   },
   "file_extension": ".py",
   "mimetype": "text/x-python",
   "name": "python",
   "nbconvert_exporter": "python",
   "pygments_lexer": "ipython3",
   "version": "3.8.10"
  }
 },
 "nbformat": 4,
 "nbformat_minor": 5
}
