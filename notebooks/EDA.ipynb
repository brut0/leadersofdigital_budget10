{
 "cells": [
  {
   "cell_type": "code",
   "execution_count": 12,
   "id": "increasing-sailing",
   "metadata": {},
   "outputs": [
    {
     "name": "stdout",
     "output_type": "stream",
     "text": [
      "3.3.4\n"
     ]
    }
   ],
   "source": [
    "import numpy as np\n",
    "import pandas as pd\n",
    "import matplotlib.pyplot as plt\n",
    "\n",
    "import matplotlib as matplotlib\n",
    "print(matplotlib.__version__)"
   ]
  },
  {
   "cell_type": "code",
   "execution_count": 46,
   "id": "integral-excitement",
   "metadata": {},
   "outputs": [],
   "source": [
    "FIGSIZE = (12,5)\n",
    "FONTSIZE = 14"
   ]
  },
  {
   "cell_type": "code",
   "execution_count": 14,
   "id": "urban-walter",
   "metadata": {},
   "outputs": [],
   "source": [
    "pd.set_option('display.float_format', lambda x: '%.2f' % x)"
   ]
  },
  {
   "cell_type": "code",
   "execution_count": 15,
   "id": "greater-warner",
   "metadata": {},
   "outputs": [
    {
     "data": {
      "text/html": [
       "<div>\n",
       "<style scoped>\n",
       "    .dataframe tbody tr th:only-of-type {\n",
       "        vertical-align: middle;\n",
       "    }\n",
       "\n",
       "    .dataframe tbody tr th {\n",
       "        vertical-align: top;\n",
       "    }\n",
       "\n",
       "    .dataframe thead th {\n",
       "        text-align: right;\n",
       "    }\n",
       "</style>\n",
       "<table border=\"1\" class=\"dataframe\">\n",
       "  <thead>\n",
       "    <tr style=\"text-align: right;\">\n",
       "      <th></th>\n",
       "      <th>Unnamed: 0</th>\n",
       "      <th>Unnamed: 1</th>\n",
       "      <th>(19) Исполнено, конс. бюджет субъекта РФ</th>\n",
       "      <th>(21) Исполнено, бюджет субъекта РФ</th>\n",
       "    </tr>\n",
       "  </thead>\n",
       "  <tbody>\n",
       "    <tr>\n",
       "      <th>1</th>\n",
       "      <td>НАЛОГОВЫЕ И НЕНАЛОГОВЫЕ ДОХОДЫ</td>\n",
       "      <td>1 00 00000 00 0000 000</td>\n",
       "      <td>34709506555.89</td>\n",
       "      <td>27131141282.57</td>\n",
       "    </tr>\n",
       "    <tr>\n",
       "      <th>2</th>\n",
       "      <td>НАЛОГИ НА ПРИБЫЛЬ, ДОХОДЫ</td>\n",
       "      <td>1 01 00000 00 0000 000</td>\n",
       "      <td>19694767431.25</td>\n",
       "      <td>15165765187.88</td>\n",
       "    </tr>\n",
       "    <tr>\n",
       "      <th>3</th>\n",
       "      <td>Налог на прибыль организаций</td>\n",
       "      <td>1 01 01000 00 0000 110</td>\n",
       "      <td>5058407816.68</td>\n",
       "      <td>5058407816.68</td>\n",
       "    </tr>\n",
       "    <tr>\n",
       "      <th>4</th>\n",
       "      <td>Налог на прибыль организаций, зачисляемый в бю...</td>\n",
       "      <td>1 01 01010 00 0000 110</td>\n",
       "      <td>5058407816.68</td>\n",
       "      <td>5058407816.68</td>\n",
       "    </tr>\n",
       "    <tr>\n",
       "      <th>5</th>\n",
       "      <td>Налог на прибыль организаций (за исключением к...</td>\n",
       "      <td>1 01 01012 02 0000 110</td>\n",
       "      <td>3305591625.02</td>\n",
       "      <td>3305591625.02</td>\n",
       "    </tr>\n",
       "    <tr>\n",
       "      <th>...</th>\n",
       "      <td>...</td>\n",
       "      <td>...</td>\n",
       "      <td>...</td>\n",
       "      <td>...</td>\n",
       "    </tr>\n",
       "    <tr>\n",
       "      <th>1258</th>\n",
       "      <td>Возврат остатков субсидий прошлых лет на социа...</td>\n",
       "      <td>2 19 51980 02 0000 151</td>\n",
       "      <td>NaN</td>\n",
       "      <td>NaN</td>\n",
       "    </tr>\n",
       "    <tr>\n",
       "      <th>1259</th>\n",
       "      <td>Возврат остатков субсидий прошлых лет на софин...</td>\n",
       "      <td>2 19 52090 02 0000 151</td>\n",
       "      <td>NaN</td>\n",
       "      <td>NaN</td>\n",
       "    </tr>\n",
       "    <tr>\n",
       "      <th>1260</th>\n",
       "      <td>Возврат остатков субсидий на софинансирование ...</td>\n",
       "      <td>2 19 54020 02 0000 151</td>\n",
       "      <td>NaN</td>\n",
       "      <td>NaN</td>\n",
       "    </tr>\n",
       "    <tr>\n",
       "      <th>1261</th>\n",
       "      <td>Возврат прочих остатков субсидий, субвенций и ...</td>\n",
       "      <td>2 19 90000 02 0000 150</td>\n",
       "      <td>-69696.26</td>\n",
       "      <td>-69696.26</td>\n",
       "    </tr>\n",
       "    <tr>\n",
       "      <th>1262</th>\n",
       "      <td>Возврат прочих остатков субсидий, субвенций и ...</td>\n",
       "      <td>2 19 90000 02 0000 151</td>\n",
       "      <td>NaN</td>\n",
       "      <td>NaN</td>\n",
       "    </tr>\n",
       "  </tbody>\n",
       "</table>\n",
       "<p>1262 rows × 4 columns</p>\n",
       "</div>"
      ],
      "text/plain": [
       "                                             Unnamed: 0  \\\n",
       "1                        НАЛОГОВЫЕ И НЕНАЛОГОВЫЕ ДОХОДЫ   \n",
       "2                             НАЛОГИ НА ПРИБЫЛЬ, ДОХОДЫ   \n",
       "3                          Налог на прибыль организаций   \n",
       "4     Налог на прибыль организаций, зачисляемый в бю...   \n",
       "5     Налог на прибыль организаций (за исключением к...   \n",
       "...                                                 ...   \n",
       "1258  Возврат остатков субсидий прошлых лет на социа...   \n",
       "1259  Возврат остатков субсидий прошлых лет на софин...   \n",
       "1260  Возврат остатков субсидий на софинансирование ...   \n",
       "1261  Возврат прочих остатков субсидий, субвенций и ...   \n",
       "1262  Возврат прочих остатков субсидий, субвенций и ...   \n",
       "\n",
       "                  Unnamed: 1  (19) Исполнено, конс. бюджет субъекта РФ  \\\n",
       "1     1 00 00000 00 0000 000                            34709506555.89   \n",
       "2     1 01 00000 00 0000 000                            19694767431.25   \n",
       "3     1 01 01000 00 0000 110                             5058407816.68   \n",
       "4     1 01 01010 00 0000 110                             5058407816.68   \n",
       "5     1 01 01012 02 0000 110                             3305591625.02   \n",
       "...                      ...                                       ...   \n",
       "1258  2 19 51980 02 0000 151                                       NaN   \n",
       "1259  2 19 52090 02 0000 151                                       NaN   \n",
       "1260  2 19 54020 02 0000 151                                       NaN   \n",
       "1261  2 19 90000 02 0000 150                                 -69696.26   \n",
       "1262  2 19 90000 02 0000 151                                       NaN   \n",
       "\n",
       "      (21) Исполнено, бюджет субъекта РФ  \n",
       "1                         27131141282.57  \n",
       "2                         15165765187.88  \n",
       "3                          5058407816.68  \n",
       "4                          5058407816.68  \n",
       "5                          3305591625.02  \n",
       "...                                  ...  \n",
       "1258                                 NaN  \n",
       "1259                                 NaN  \n",
       "1260                                 NaN  \n",
       "1261                           -69696.26  \n",
       "1262                                 NaN  \n",
       "\n",
       "[1262 rows x 4 columns]"
      ]
     },
     "execution_count": 15,
     "metadata": {},
     "output_type": "execute_result"
    }
   ],
   "source": [
    "actual_profit = pd.read_excel('./data/Годовые отчеты об исполнении бюджета/2020.xlsx', sheet_name='доходы (исполнено), 2020', header=1)\n",
    "actual_profit = actual_profit.drop(0)\n",
    "#profit_2010.columns = {'Расходы', }\n",
    "actual_profit"
   ]
  },
  {
   "cell_type": "code",
   "execution_count": 16,
   "id": "dimensional-spokesman",
   "metadata": {},
   "outputs": [],
   "source": [
    "PATH = './data/Годовые отчеты об исполнении бюджета/'\n",
    "AGE_BEGIN = 2010\n",
    "AGE_END = 2020\n",
    "\n",
    "years = [year for year in range(AGE_BEGIN,AGE_END+1)]\n",
    "profits_actual = {}\n",
    "consumptions_actual = {}\n",
    "\n",
    "for year in years:\n",
    "    if year > 2015:\n",
    "         comma = ','\n",
    "    else:\n",
    "        comma = ''\n",
    "        \n",
    "    #\n",
    "    try:\n",
    "        cons = pd.read_excel(f'{PATH}{year}.xlsx', sheet_name=f'расходы (исполнено){comma} {year}', header=1)\n",
    "    except:\n",
    "        cons = pd.read_excel(f'{PATH}{year}.xls', sheet_name=f'расходы (исполнено){comma} {year}', header=1)\n",
    "    #cons = cons.drop(0)\n",
    "    consumptions_actual[year] = cons\n",
    "\n",
    "    #\n",
    "    try:\n",
    "        profit = pd.read_excel(f'{PATH}{year}.xlsx', sheet_name=f'доходы (исполнено){comma} {year}', header=0)\n",
    "    except:\n",
    "        profit = pd.read_excel(f'{PATH}{year}.xls', sheet_name=f'доходы (исполнено){comma} {year}', header=0)\n",
    "    profit = profit.drop(0)\n",
    "    profits_actual[year] = profit"
   ]
  },
  {
   "cell_type": "code",
   "execution_count": 17,
   "id": "mexican-inventory",
   "metadata": {},
   "outputs": [],
   "source": [
    "PATH = './data/Первоначальные бюджетные данные/'\n",
    "AGE_BEGIN = 2010\n",
    "AGE_END = 2020\n",
    "\n",
    "years = [year for year in range(AGE_BEGIN,AGE_END+1)]\n",
    "profits_planned = {}\n",
    "consumptions_planned = {}\n",
    "\n",
    "for year in years:\n",
    "    if year > 2017:\n",
    "         comma = ','\n",
    "    else:\n",
    "        comma = ''\n",
    "        \n",
    "    #\n",
    "    try:\n",
    "        cons = pd.read_excel(f'{PATH}{year}.xlsx', sheet_name=f'расходы (план){comma} {year}', header=1)\n",
    "    except:\n",
    "        cons = pd.read_excel(f'{PATH}{year}.xls', sheet_name=f'расходы (план){comma} {year}', header=1)\n",
    "    cons = cons.drop(0)\n",
    "    consumptions_planned[year] = cons\n",
    "\n",
    "    #\n",
    "    try:\n",
    "        profit = pd.read_excel(f'{PATH}{year}.xlsx', sheet_name=f'доходы (план){comma} {year}', header=0) \n",
    "    except:\n",
    "        profit = pd.read_excel(f'{PATH}{year}.xls', sheet_name=f'доходы (план){comma} {year}', header=0)\n",
    "    profit = profit.drop(0)\n",
    "    profits_planned[year] = profit"
   ]
  },
  {
   "cell_type": "code",
   "execution_count": 62,
   "id": "final-honor",
   "metadata": {
    "scrolled": true
   },
   "outputs": [],
   "source": [
    "#for year in years:\n",
    "#    print(year, profits_actual[year].columns)"
   ]
  },
  {
   "cell_type": "code",
   "execution_count": 19,
   "id": "coated-deficit",
   "metadata": {
    "scrolled": true
   },
   "outputs": [
    {
     "data": {
      "text/plain": [
       "[31850910313,\n",
       " 35935356067.74,\n",
       " 33150930793.99,\n",
       " 30576682754.19,\n",
       " 34117735931.87,\n",
       " 34801533070.6,\n",
       " 39323606617.18,\n",
       " 41108607816.91,\n",
       " 54378039681.2,\n",
       " 58543527525.81,\n",
       " 68182687573.07]"
      ]
     },
     "execution_count": 19,
     "metadata": {},
     "output_type": "execute_result"
    }
   ],
   "source": [
    "profit_a = [profits_actual[y].iloc[0,-2] for y in profits_actual]\n",
    "profit_a"
   ]
  },
  {
   "cell_type": "code",
   "execution_count": 20,
   "id": "hollywood-finder",
   "metadata": {},
   "outputs": [
    {
     "data": {
      "text/plain": [
       "<BarContainer object of 11 artists>"
      ]
     },
     "execution_count": 20,
     "metadata": {},
     "output_type": "execute_result"
    },
    {
     "data": {
      "image/png": "[encoded data removed]",
      "text/plain": [
       "<Figure size 432x288 with 1 Axes>"
      ]
     },
     "metadata": {
      "needs_background": "light"
     },
     "output_type": "display_data"
    }
   ],
   "source": [
    "plt.bar(years, profit_a)"
   ]
  },
  {
   "cell_type": "code",
   "execution_count": 21,
   "id": "brief-country",
   "metadata": {
    "scrolled": true
   },
   "outputs": [
    {
     "data": {
      "text/plain": [
       "[32339620917.23,\n",
       " 36094035735.2,\n",
       " 35395090715.12,\n",
       " 36462680559.25,\n",
       " 37834580535.25,\n",
       " 38578878408.6,\n",
       " 41940943706.32,\n",
       " 43592744886.32,\n",
       " 50243339293.27,\n",
       " 57556214364.0,\n",
       " 75012480823.91]"
      ]
     },
     "execution_count": 21,
     "metadata": {},
     "output_type": "execute_result"
    }
   ],
   "source": [
    "cons_a = [consumptions_actual[y].iloc[0,-2] for y in consumptions_actual]\n",
    "cons_a"
   ]
  },
  {
   "cell_type": "code",
   "execution_count": 22,
   "id": "prescribed-cowboy",
   "metadata": {},
   "outputs": [
    {
     "data": {
      "text/plain": [
       "<BarContainer object of 11 artists>"
      ]
     },
     "execution_count": 22,
     "metadata": {},
     "output_type": "execute_result"
    },
    {
     "data": {
      "image/png": "[encoded data removed]",
      "text/plain": [
       "<Figure size 432x288 with 1 Axes>"
      ]
     },
     "metadata": {
      "needs_background": "light"
     },
     "output_type": "display_data"
    }
   ],
   "source": [
    "plt.bar(years, cons_a)"
   ]
  },
  {
   "cell_type": "code",
   "execution_count": 23,
   "id": "gross-photography",
   "metadata": {},
   "outputs": [
    {
     "data": {
      "text/plain": [
       "[27267621558.77,\n",
       " 30678999189.34,\n",
       " 33373255036.25,\n",
       " 35908117909.17,\n",
       " 35462598758.36,\n",
       " 36445157936.74,\n",
       " 39421571162.21,\n",
       " 41711472799.61,\n",
       " 45510986678.11,\n",
       " 56829983031.29,\n",
       " 67884032045.79]"
      ]
     },
     "execution_count": 23,
     "metadata": {},
     "output_type": "execute_result"
    }
   ],
   "source": [
    "cons_p = [consumptions_planned[y].iloc[0,-2] for y in consumptions_planned]\n",
    "cons_p"
   ]
  },
  {
   "cell_type": "code",
   "execution_count": 24,
   "id": "going-victor",
   "metadata": {},
   "outputs": [
    {
     "data": {
      "text/plain": [
       "<BarContainer object of 11 artists>"
      ]
     },
     "execution_count": 24,
     "metadata": {},
     "output_type": "execute_result"
    },
    {
     "data": {
      "image/png": "[encoded data removed]",
      "text/plain": [
       "<Figure size 432x288 with 1 Axes>"
      ]
     },
     "metadata": {
      "needs_background": "light"
     },
     "output_type": "display_data"
    }
   ],
   "source": [
    "plt.bar(years, cons_p)"
   ]
  },
  {
   "cell_type": "code",
   "execution_count": 25,
   "id": "ordered-penalty",
   "metadata": {},
   "outputs": [
    {
     "data": {
      "text/plain": [
       "[25254031795.5,\n",
       " 28537754154.88,\n",
       " 30373124329.5,\n",
       " 31767244595.02,\n",
       " 31893892039.69,\n",
       " 32863651767.17,\n",
       " 29380712000,\n",
       " 39469802278.5,\n",
       " 45085835113.33,\n",
       " 56647722253.09,\n",
       " 65316890463.51]"
      ]
     },
     "execution_count": 25,
     "metadata": {},
     "output_type": "execute_result"
    }
   ],
   "source": [
    "profit_p = [profits_planned[y].iloc[0,-2] for y in profits_planned]\n",
    "profit_p"
   ]
  },
  {
   "cell_type": "code",
   "execution_count": 26,
   "id": "aerial-observation",
   "metadata": {},
   "outputs": [
    {
     "data": {
      "text/plain": [
       "<BarContainer object of 11 artists>"
      ]
     },
     "execution_count": 26,
     "metadata": {},
     "output_type": "execute_result"
    },
    {
     "data": {
      "image/png": "[encoded data removed]",
      "text/plain": [
       "<Figure size 432x288 with 1 Axes>"
      ]
     },
     "metadata": {
      "needs_background": "light"
     },
     "output_type": "display_data"
    }
   ],
   "source": [
    "plt.bar(years, profit_p)"
   ]
  },
  {
   "cell_type": "code",
   "execution_count": 27,
   "id": "ignored-brazil",
   "metadata": {},
   "outputs": [
    {
     "data": {
      "text/plain": [
       "<BarContainer object of 11 artists>"
      ]
     },
     "execution_count": 27,
     "metadata": {},
     "output_type": "execute_result"
    },
    {
     "data": {
      "image/png": "[encoded data removed]",
      "text/plain": [
       "<Figure size 432x288 with 1 Axes>"
      ]
     },
     "metadata": {
      "needs_background": "light"
     },
     "output_type": "display_data"
    }
   ],
   "source": [
    "plt.bar(years, [(a/p-1)*100 for p,a in zip(cons_p,cons_a)])\n",
    "#plt.set_xticks(years)"
   ]
  },
  {
   "cell_type": "code",
   "execution_count": 28,
   "id": "ignored-spell",
   "metadata": {},
   "outputs": [
    {
     "data": {
      "text/plain": [
       "[18.600813230183277,\n",
       " 17.650629710703058,\n",
       " 6.058251365274048,\n",
       " 1.5443935309636059,\n",
       " 6.688685713792553,\n",
       " 5.854606188190004,\n",
       " 6.390847624371454,\n",
       " 4.510202974006683,\n",
       " 10.398264156808912,\n",
       " 1.277901723655539,\n",
       " 10.500921296648414]"
      ]
     },
     "execution_count": 28,
     "metadata": {},
     "output_type": "execute_result"
    }
   ],
   "source": [
    "[(a/p-1)*100 for p,a in zip(cons_p,cons_a)]"
   ]
  },
  {
   "cell_type": "code",
   "execution_count": 59,
   "id": "multiple-starter",
   "metadata": {},
   "outputs": [],
   "source": [
    "def plot_compare_plan_actual(plan=None, actual=None, title=None):\n",
    "    width = 0.4  # the width of the bars\n",
    "    x = np.arange(len(years))\n",
    "\n",
    "    fig, ax = plt.subplots(figsize=FIGSIZE)\n",
    "    rects1 = ax.bar(x - width/2,  plan, width, label='Планируемые')\n",
    "    rects2 = ax.bar(x + width/2, actual, width, label='Фактические')\n",
    "    #ax.plot(x, actual)\n",
    "\n",
    "    # Add some text for labels, title and custom x-axis tick labels, etc.\n",
    "    ax.set_ylabel('руб', fontsize=FONTSIZE+2)\n",
    "    ax.set_xlabel('год', fontsize=FONTSIZE+2)\n",
    "\n",
    "    ax.set_title(title, fontsize=FONTSIZE+4)\n",
    "    ax.set_xticks(x)\n",
    "    ax.set_xticklabels([str(y) for y in years], fontsize=FONTSIZE)\n",
    "    #ax.set_yticklabels(fontsize=FONTSIZE)\n",
    "    ax.legend()\n",
    "\n",
    "    rects = ax.patches\n",
    "\n",
    "    # Make some labels.\n",
    "    labels = [f\"{(a/p-1)*100:.2f}%\" for p,a in zip(plan*2,actual*2)]\n",
    "\n",
    "    for i, (rect, label) in enumerate(zip(rects, labels)):\n",
    "        if i%2:\n",
    "            continue\n",
    "        height = rect.get_height()\n",
    "        ax.text(\n",
    "            rect.get_x() + rect.get_width(), height + 500, label, ha=\"center\", va=\"bottom\", fontsize=FONTSIZE+2\n",
    "        )\n",
    "\n",
    "    fig.tight_layout()\n",
    "\n",
    "    plt.show()"
   ]
  },
  {
   "cell_type": "code",
   "execution_count": 60,
   "id": "alternate-violation",
   "metadata": {},
   "outputs": [
    {
     "data": {
      "image/png": "[encoded data removed]",
      "text/plain": [
       "<Figure size 864x360 with 1 Axes>"
      ]
     },
     "metadata": {
      "needs_background": "light"
     },
     "output_type": "display_data"
    }
   ],
   "source": [
    "plot_compare_plan_actual(profit_p, profit_a, 'Консолидированные доходы бюджета')"
   ]
  },
  {
   "cell_type": "code",
   "execution_count": 61,
   "id": "swedish-cement",
   "metadata": {},
   "outputs": [
    {
     "data": {
      "image/png": "[encoded data removed]",
      "text/plain": [
       "<Figure size 864x360 with 1 Axes>"
      ]
     },
     "metadata": {
      "needs_background": "light"
     },
     "output_type": "display_data"
    }
   ],
   "source": [
    "plot_compare_plan_actual(cons_p, cons_a, 'Консолидированные расходы бюджета')"
   ]
  },
  {
   "cell_type": "code",
   "execution_count": null,
   "id": "usual-crown",
   "metadata": {},
   "outputs": [],
   "source": []
  },
  {
   "cell_type": "code",
   "execution_count": null,
   "id": "wired-exhibit",
   "metadata": {},
   "outputs": [],
   "source": []
  }
 ],
 "metadata": {
  "kernelspec": {
   "display_name": "Python 3",
   "language": "python",
   "name": "python3"
  },
  "language_info": {
   "codemirror_mode": {
    "name": "ipython",
    "version": 3
   },
   "file_extension": ".py",
   "mimetype": "text/x-python",
   "name": "python",
   "nbconvert_exporter": "python",
   "pygments_lexer": "ipython3",
   "version": "3.8.10"
  }
 },
 "nbformat": 4,
 "nbformat_minor": 5
}
