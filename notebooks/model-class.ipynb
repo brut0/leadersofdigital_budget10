{
 "cells": [
  {
   "cell_type": "markdown",
   "id": "4fb17b84",
   "metadata": {},
   "source": [
    "# Реализация и тестирование предсказаний класса прогноза доходов"
   ]
  },
  {
   "cell_type": "markdown",
   "id": "bc18c2b5",
   "metadata": {},
   "source": [
    "#### Подключение библиотек"
   ]
  },
  {
   "cell_type": "code",
   "execution_count": 1,
   "id": "831684b8",
   "metadata": {},
   "outputs": [
    {
     "name": "stdout",
     "output_type": "stream",
     "text": [
      "Matplotlib: 3.3.4\n",
      "Seaborn: 0.11.1\n"
     ]
    }
   ],
   "source": [
    "import numpy as np\n",
    "import pandas as pd\n",
    "import matplotlib.pyplot as plt\n",
    "import seaborn as sns\n",
    "from sklearn.linear_model import LinearRegression\n",
    "from sklearn.linear_model import Ridge\n",
    "from catboost import CatBoostRegressor\n",
    "from sklearn.preprocessing import StandardScaler\n",
    "from statsmodels.tsa.arima.model import ARIMA\n",
    "from catboost import Pool\n",
    "import shap as shap\n",
    "\n",
    "\n",
    "import matplotlib as matplotlib\n",
    "print(f\"Matplotlib: {matplotlib.__version__}\")\n",
    "print(f\"Seaborn: {sns.__version__}\")\n",
    "\n",
    "pd.set_option('display.float_format', lambda x: '%.2f' % x)\n",
    "pd.set_option('display.max_columns', 100)\n",
    "pd.set_option('display.max_rows', 50)"
   ]
  },
  {
   "cell_type": "code",
   "execution_count": 2,
   "id": "7f221e36",
   "metadata": {},
   "outputs": [],
   "source": [
    "SEED = 42\n",
    "FIGSIZE = (12,5)\n",
    "FONTSIZE = 14\n",
    "YEARS_PREDICT = 3"
   ]
  },
  {
   "cell_type": "markdown",
   "id": "604a07e9",
   "metadata": {},
   "source": [
    "#### Загрузка данных"
   ]
  },
  {
   "cell_type": "code",
   "execution_count": 3,
   "id": "396969d9",
   "metadata": {},
   "outputs": [
    {
     "name": "stdout",
     "output_type": "stream",
     "text": [
      "All of the data has been loaded successfully!\n",
      "\n"
     ]
    }
   ],
   "source": [
    "PATH = '../data/'\n",
    "\n",
    "try:\n",
    "    X = pd.read_csv(PATH+'features.csv', index_col=0)\n",
    "    y = pd.read_csv(PATH+'target.csv', index_col=0)\n",
    "    inflation = pd.read_csv(PATH+'inflation.csv', index_col=0)\n",
    "    print('All of the data has been loaded successfully!')\n",
    "except Exception as err:\n",
    "    print(repr(err))\n",
    "print()"
   ]
  },
  {
   "cell_type": "code",
   "execution_count": 4,
   "id": "1d2479d4",
   "metadata": {},
   "outputs": [],
   "source": [
    "y.loc[y.iloc[-1].name + 1,:] = np.nan\n",
    "y.loc[y.iloc[-1].name + 1,:] = np.nan"
   ]
  },
  {
   "cell_type": "markdown",
   "id": "18c1f346",
   "metadata": {},
   "source": [
    "Добавим внешние данные по инфляции"
   ]
  },
  {
   "cell_type": "code",
   "execution_count": 5,
   "id": "b8161d19",
   "metadata": {},
   "outputs": [
    {
     "data": {
      "text/html": [
       "<div>\n",
       "<style scoped>\n",
       "    .dataframe tbody tr th:only-of-type {\n",
       "        vertical-align: middle;\n",
       "    }\n",
       "\n",
       "    .dataframe tbody tr th {\n",
       "        vertical-align: top;\n",
       "    }\n",
       "\n",
       "    .dataframe thead th {\n",
       "        text-align: right;\n",
       "    }\n",
       "</style>\n",
       "<table border=\"1\" class=\"dataframe\">\n",
       "  <thead>\n",
       "    <tr style=\"text-align: right;\">\n",
       "      <th></th>\n",
       "      <th>Прогноз (%)</th>\n",
       "      <th>Факт (%)</th>\n",
       "    </tr>\n",
       "    <tr>\n",
       "      <th>Год</th>\n",
       "      <th></th>\n",
       "      <th></th>\n",
       "    </tr>\n",
       "  </thead>\n",
       "  <tbody>\n",
       "    <tr>\n",
       "      <th>2011</th>\n",
       "      <td>8.00</td>\n",
       "      <td>6.10</td>\n",
       "    </tr>\n",
       "    <tr>\n",
       "      <th>2012</th>\n",
       "      <td>6.10</td>\n",
       "      <td>6.60</td>\n",
       "    </tr>\n",
       "    <tr>\n",
       "      <th>2013</th>\n",
       "      <td>6.40</td>\n",
       "      <td>6.50</td>\n",
       "    </tr>\n",
       "    <tr>\n",
       "      <th>2014</th>\n",
       "      <td>4.75</td>\n",
       "      <td>11.40</td>\n",
       "    </tr>\n",
       "    <tr>\n",
       "      <th>2015</th>\n",
       "      <td>8.00</td>\n",
       "      <td>12.90</td>\n",
       "    </tr>\n",
       "    <tr>\n",
       "      <th>2016</th>\n",
       "      <td>5.75</td>\n",
       "      <td>5.40</td>\n",
       "    </tr>\n",
       "    <tr>\n",
       "      <th>2017</th>\n",
       "      <td>2.50</td>\n",
       "      <td>2.50</td>\n",
       "    </tr>\n",
       "    <tr>\n",
       "      <th>2018</th>\n",
       "      <td>4.20</td>\n",
       "      <td>4.30</td>\n",
       "    </tr>\n",
       "    <tr>\n",
       "      <th>2019</th>\n",
       "      <td>4.95</td>\n",
       "      <td>3.00</td>\n",
       "    </tr>\n",
       "    <tr>\n",
       "      <th>2020</th>\n",
       "      <td>4.70</td>\n",
       "      <td>4.90</td>\n",
       "    </tr>\n",
       "    <tr>\n",
       "      <th>2021</th>\n",
       "      <td>4.95</td>\n",
       "      <td>NaN</td>\n",
       "    </tr>\n",
       "    <tr>\n",
       "      <th>2022</th>\n",
       "      <td>4.50</td>\n",
       "      <td>NaN</td>\n",
       "    </tr>\n",
       "  </tbody>\n",
       "</table>\n",
       "</div>"
      ],
      "text/plain": [
       "      Прогноз (%)  Факт (%)\n",
       "Год                        \n",
       "2011         8.00      6.10\n",
       "2012         6.10      6.60\n",
       "2013         6.40      6.50\n",
       "2014         4.75     11.40\n",
       "2015         8.00     12.90\n",
       "2016         5.75      5.40\n",
       "2017         2.50      2.50\n",
       "2018         4.20      4.30\n",
       "2019         4.95      3.00\n",
       "2020         4.70      4.90\n",
       "2021         4.95       NaN\n",
       "2022         4.50       NaN"
      ]
     },
     "execution_count": 5,
     "metadata": {},
     "output_type": "execute_result"
    }
   ],
   "source": [
    "inflation"
   ]
  },
  {
   "cell_type": "code",
   "execution_count": 6,
   "id": "a6126c1f",
   "metadata": {},
   "outputs": [],
   "source": [
    "X = pd.concat([X, inflation['Прогноз (%)']], axis=1)"
   ]
  },
  {
   "cell_type": "code",
   "execution_count": 7,
   "id": "548a041f",
   "metadata": {},
   "outputs": [],
   "source": [
    "TARGETS = ['Налог на доходы физических лиц', 'Налог на прибыль организаций']"
   ]
  },
  {
   "cell_type": "markdown",
   "id": "060b8fbe",
   "metadata": {},
   "source": [
    "### Класс с реализацией ансамбля моделей"
   ]
  },
  {
   "cell_type": "code",
   "execution_count": 8,
   "id": "faabe036",
   "metadata": {},
   "outputs": [],
   "source": [
    "class BudgetModel():\n",
    "    def __init__(self, X, y, years_to_predict=2, random_seed=42):\n",
    "        self.SEED = random_seed\n",
    "        self.years_to_predict = years_to_predict\n",
    "        self.X_train, self.X_test = 0, 0\n",
    "        self.y_train, self.y_test = 0, 0\n",
    "        self.feature_importance = []\n",
    "        \n",
    "        self.X = X\n",
    "        self.y = y\n",
    "        \n",
    "        self.X = self.X.dropna(axis=1)\n",
    "        self.X_train, self.X_test = self.X[:-self.years_to_predict], self.X[-self.years_to_predict:]\n",
    "        self.y_train, self.y_test = self.y[:-self.years_to_predict], self.y[-self.years_to_predict:]\n",
    "\n",
    "        scaler = StandardScaler()\n",
    "        self.X_train = scaler.fit_transform(self.X_train)\n",
    "        self.X_test = scaler.transform(self.X_test)\n",
    "\n",
    "\n",
    "    def predict(self):\n",
    "        catboost_params = {\n",
    "            'depth': 1,\n",
    "            'iterations': 10000,\n",
    "            'learning_rate': 0.5,\n",
    "            'l2_leaf_reg': 200,\n",
    "            'eval_metric': 'MAE',\n",
    "            'od_type': 'IncToDec',\n",
    "            'od_pval': 2,\n",
    "            'silent': True,\n",
    "            'thread_count': -1,\n",
    "            'random_seed': self.SEED\n",
    "        }\n",
    "\n",
    "        models = {\n",
    "            'Linear': LinearRegression(),\n",
    "            'Ridge': Ridge()\n",
    "        }\n",
    "\n",
    "        dfs = []\n",
    "\n",
    "        for target in self.y.columns[0:]:\n",
    "            df_predict = pd.DataFrame({'model': [], 'predicted': [], 'predicted_val': []})\n",
    "\n",
    "            for k in models:\n",
    "                models[k].fit(self.X_train, self.y_train[target])\n",
    "                predicted = models[k].predict(self.X_test)\n",
    "                predicted_val = models[k].predict(self.X_train)\n",
    "                df_predict = df_predict.append({'model': k,\n",
    "                                                'predicted': predicted,\n",
    "                                                'predicted_val': predicted_val},\n",
    "                                               ignore_index=True)\n",
    "\n",
    "            model = CatBoostRegressor(**catboost_params)\n",
    "            model.fit(self.X_train, self.y_train[target])\n",
    "            predicted = model.predict(self.X_test)\n",
    "            predicted_val = model.predict(self.X_train)\n",
    "            self.feature_importance.append(pd.DataFrame(model.feature_importances_, index=self.X.columns))\n",
    "            df_predict = df_predict.append({'model': 'CatBoost',\n",
    "                                                'predicted': predicted,\n",
    "                                                'predicted_val': predicted_val},\n",
    "                                               ignore_index=True)\n",
    "\n",
    "            model = ARIMA(self.y_train[target], order=(3, 2, 1))\n",
    "            arima_result = model.fit()\n",
    "            arima_pred = arima_result.predict(start=0, end=len(self.y)-1)\n",
    "            df_predict = df_predict.append({'model': 'ARIMA',\n",
    "                                                'predicted': arima_pred.values[-self.years_to_predict:],\n",
    "                                                'predicted_val': arima_pred.values[:-self.years_to_predict]},\n",
    "                                               ignore_index=True)\n",
    "\n",
    "            df_stacking_test = pd.DataFrame({y:predict.tolist() for (y, predict) in zip(df_predict['model'], df_predict['predicted'])})           \n",
    "            df_stacking_train = pd.DataFrame({y:predict.tolist() for (y, predict) in zip(df_predict['model'], df_predict['predicted_val'])})\n",
    "            \n",
    "            model = Ridge()\n",
    "            model.fit(df_stacking_train, self.y_train[target])\n",
    "            predicted = model.predict(df_stacking_test)\n",
    "            \n",
    "            dfs.append(predicted)\n",
    "\n",
    "        return dfs\n",
    "    \n",
    "    @property\n",
    "    def feature_importances_(self):\n",
    "        return self.feature_importance\n"
   ]
  },
  {
   "cell_type": "code",
   "execution_count": 9,
   "id": "0c53adc2",
   "metadata": {},
   "outputs": [
    {
     "name": "stderr",
     "output_type": "stream",
     "text": [
      "An unsupported index was provided and will be ignored when e.g. forecasting.\n",
      "An unsupported index was provided and will be ignored when e.g. forecasting.\n",
      "An unsupported index was provided and will be ignored when e.g. forecasting.\n",
      "Non-stationary starting autoregressive parameters found. Using zeros as starting parameters.\n",
      "No supported index is available. Prediction results will be given with an integer index beginning at `start`.\n",
      "An unsupported index was provided and will be ignored when e.g. forecasting.\n",
      "An unsupported index was provided and will be ignored when e.g. forecasting.\n",
      "An unsupported index was provided and will be ignored when e.g. forecasting.\n",
      "No supported index is available. Prediction results will be given with an integer index beginning at `start`.\n"
     ]
    }
   ],
   "source": [
    "model = BudgetModel(X, y, YEARS_PREDICT, SEED)\n",
    "df = model.predict()"
   ]
  },
  {
   "cell_type": "code",
   "execution_count": 10,
   "id": "321dead3",
   "metadata": {},
   "outputs": [
    {
     "data": {
      "text/plain": [
       "[array([14663.90871948, 14761.16112103, 15001.43090388]),\n",
       " array([9379.87891308, 9341.35320271, 9734.24569367])]"
      ]
     },
     "execution_count": 10,
     "metadata": {},
     "output_type": "execute_result"
    }
   ],
   "source": [
    "df"
   ]
  },
  {
   "cell_type": "markdown",
   "id": "a84d4cdf",
   "metadata": {},
   "source": [
    "#### Выявленные признаки наиболее сильно влияющие на предсказание доходов от НДФЛ"
   ]
  },
  {
   "cell_type": "code",
   "execution_count": 17,
   "id": "6300ca65",
   "metadata": {},
   "outputs": [
    {
     "data": {
      "text/html": [
       "<div>\n",
       "<style scoped>\n",
       "    .dataframe tbody tr th:only-of-type {\n",
       "        vertical-align: middle;\n",
       "    }\n",
       "\n",
       "    .dataframe tbody tr th {\n",
       "        vertical-align: top;\n",
       "    }\n",
       "\n",
       "    .dataframe thead th {\n",
       "        text-align: right;\n",
       "    }\n",
       "</style>\n",
       "<table border=\"1\" class=\"dataframe\">\n",
       "  <thead>\n",
       "    <tr style=\"text-align: right;\">\n",
       "      <th></th>\n",
       "      <th>0</th>\n",
       "    </tr>\n",
       "  </thead>\n",
       "  <tbody>\n",
       "    <tr>\n",
       "      <th>Численность постоянного населения</th>\n",
       "      <td>36.77</td>\n",
       "    </tr>\n",
       "    <tr>\n",
       "      <th>Инвестиции в основной капитал</th>\n",
       "      <td>15.61</td>\n",
       "    </tr>\n",
       "    <tr>\n",
       "      <th>Валовой региональный продукт</th>\n",
       "      <td>6.95</td>\n",
       "    </tr>\n",
       "    <tr>\n",
       "      <th>Объем платных услуг населению</th>\n",
       "      <td>6.06</td>\n",
       "    </tr>\n",
       "    <tr>\n",
       "      <th>мешки бумажные</th>\n",
       "      <td>5.78</td>\n",
       "    </tr>\n",
       "    <tr>\n",
       "      <th>Овощи</th>\n",
       "      <td>4.92</td>\n",
       "    </tr>\n",
       "    <tr>\n",
       "      <th>Оборот розничной торговли</th>\n",
       "      <td>4.16</td>\n",
       "    </tr>\n",
       "    <tr>\n",
       "      <th>Индекс промышленного производства</th>\n",
       "      <td>3.48</td>\n",
       "    </tr>\n",
       "    <tr>\n",
       "      <th>Скот и птица</th>\n",
       "      <td>2.78</td>\n",
       "    </tr>\n",
       "    <tr>\n",
       "      <th>Ввод в эксплуатацию жилых домов</th>\n",
       "      <td>2.75</td>\n",
       "    </tr>\n",
       "    <tr>\n",
       "      <th>железорудные окатыши</th>\n",
       "      <td>2.53</td>\n",
       "    </tr>\n",
       "    <tr>\n",
       "      <th>Яйца</th>\n",
       "      <td>2.46</td>\n",
       "    </tr>\n",
       "    <tr>\n",
       "      <th>Уровень зарегистрированной безработицы (к численности экономически активного населения)</th>\n",
       "      <td>1.87</td>\n",
       "    </tr>\n",
       "    <tr>\n",
       "      <th>Численность безработных, зарегистрированных в службах занятости</th>\n",
       "      <td>1.29</td>\n",
       "    </tr>\n",
       "    <tr>\n",
       "      <th>Фонд заработной платы</th>\n",
       "      <td>1.26</td>\n",
       "    </tr>\n",
       "    <tr>\n",
       "      <th>Среднегодовая остаточная стоимость облагаемого имущества</th>\n",
       "      <td>0.78</td>\n",
       "    </tr>\n",
       "    <tr>\n",
       "      <th>Налогооблагаемая прибыль</th>\n",
       "      <td>0.54</td>\n",
       "    </tr>\n",
       "    <tr>\n",
       "      <th>Молоко</th>\n",
       "      <td>0.00</td>\n",
       "    </tr>\n",
       "    <tr>\n",
       "      <th>Внешнеторговый оборот</th>\n",
       "      <td>0.00</td>\n",
       "    </tr>\n",
       "    <tr>\n",
       "      <th>Картофель</th>\n",
       "      <td>0.00</td>\n",
       "    </tr>\n",
       "    <tr>\n",
       "      <th>Добыча полезных ископаемых</th>\n",
       "      <td>0.00</td>\n",
       "    </tr>\n",
       "    <tr>\n",
       "      <th>бумага</th>\n",
       "      <td>0.00</td>\n",
       "    </tr>\n",
       "    <tr>\n",
       "      <th>Экспорт</th>\n",
       "      <td>0.00</td>\n",
       "    </tr>\n",
       "    <tr>\n",
       "      <th>Импорт</th>\n",
       "      <td>0.00</td>\n",
       "    </tr>\n",
       "  </tbody>\n",
       "</table>\n",
       "</div>"
      ],
      "text/plain": [
       "                                                       0\n",
       "Численность постоянного населения                  36.77\n",
       "Инвестиции в основной капитал                      15.61\n",
       "Валовой региональный продукт                        6.95\n",
       "Объем платных услуг населению                       6.06\n",
       "мешки бумажные                                      5.78\n",
       "Овощи                                               4.92\n",
       "Оборот розничной торговли                           4.16\n",
       "Индекс промышленного производства                   3.48\n",
       "Скот и птица                                        2.78\n",
       "Ввод в эксплуатацию жилых домов                     2.75\n",
       "железорудные окатыши                                2.53\n",
       "Яйца                                                2.46\n",
       "Уровень зарегистрированной безработицы (к числе...  1.87\n",
       "Численность безработных, зарегистрированных в с...  1.29\n",
       "Фонд заработной платы                               1.26\n",
       "Среднегодовая остаточная стоимость облагаемого ...  0.78\n",
       "Налогооблагаемая прибыль                            0.54\n",
       "Молоко                                              0.00\n",
       "Внешнеторговый оборот                               0.00\n",
       "Картофель                                           0.00\n",
       "Добыча полезных ископаемых                          0.00\n",
       "бумага                                              0.00\n",
       "Экспорт                                             0.00\n",
       "Импорт                                              0.00"
      ]
     },
     "execution_count": 17,
     "metadata": {},
     "output_type": "execute_result"
    }
   ],
   "source": [
    "model.feature_importances_[0].sort_values(0,ascending=False)"
   ]
  },
  {
   "cell_type": "markdown",
   "id": "9c458020",
   "metadata": {},
   "source": [
    "#### Выявленные признаки наиболее сильно влияющие на предсказание доходов от налогов на прибыль организаций"
   ]
  },
  {
   "cell_type": "code",
   "execution_count": 18,
   "id": "4639e75e",
   "metadata": {},
   "outputs": [
    {
     "data": {
      "text/html": [
       "<div>\n",
       "<style scoped>\n",
       "    .dataframe tbody tr th:only-of-type {\n",
       "        vertical-align: middle;\n",
       "    }\n",
       "\n",
       "    .dataframe tbody tr th {\n",
       "        vertical-align: top;\n",
       "    }\n",
       "\n",
       "    .dataframe thead th {\n",
       "        text-align: right;\n",
       "    }\n",
       "</style>\n",
       "<table border=\"1\" class=\"dataframe\">\n",
       "  <thead>\n",
       "    <tr style=\"text-align: right;\">\n",
       "      <th></th>\n",
       "      <th>0</th>\n",
       "    </tr>\n",
       "  </thead>\n",
       "  <tbody>\n",
       "    <tr>\n",
       "      <th>бумага</th>\n",
       "      <td>18.06</td>\n",
       "    </tr>\n",
       "    <tr>\n",
       "      <th>Численность постоянного населения</th>\n",
       "      <td>14.03</td>\n",
       "    </tr>\n",
       "    <tr>\n",
       "      <th>Объем платных услуг населению</th>\n",
       "      <td>13.66</td>\n",
       "    </tr>\n",
       "    <tr>\n",
       "      <th>Индекс промышленного производства</th>\n",
       "      <td>12.49</td>\n",
       "    </tr>\n",
       "    <tr>\n",
       "      <th>Валовой региональный продукт</th>\n",
       "      <td>5.38</td>\n",
       "    </tr>\n",
       "    <tr>\n",
       "      <th>Фонд заработной платы</th>\n",
       "      <td>4.76</td>\n",
       "    </tr>\n",
       "    <tr>\n",
       "      <th>Уровень зарегистрированной безработицы (к численности экономически активного населения)</th>\n",
       "      <td>4.75</td>\n",
       "    </tr>\n",
       "    <tr>\n",
       "      <th>мешки бумажные</th>\n",
       "      <td>4.35</td>\n",
       "    </tr>\n",
       "    <tr>\n",
       "      <th>Численность безработных, зарегистрированных в службах занятости</th>\n",
       "      <td>2.91</td>\n",
       "    </tr>\n",
       "    <tr>\n",
       "      <th>Импорт</th>\n",
       "      <td>2.88</td>\n",
       "    </tr>\n",
       "    <tr>\n",
       "      <th>Добыча полезных ископаемых</th>\n",
       "      <td>2.84</td>\n",
       "    </tr>\n",
       "    <tr>\n",
       "      <th>Оборот розничной торговли</th>\n",
       "      <td>2.82</td>\n",
       "    </tr>\n",
       "    <tr>\n",
       "      <th>Инвестиции в основной капитал</th>\n",
       "      <td>2.74</td>\n",
       "    </tr>\n",
       "    <tr>\n",
       "      <th>Скот и птица</th>\n",
       "      <td>2.21</td>\n",
       "    </tr>\n",
       "    <tr>\n",
       "      <th>Овощи</th>\n",
       "      <td>2.02</td>\n",
       "    </tr>\n",
       "    <tr>\n",
       "      <th>Налогооблагаемая прибыль</th>\n",
       "      <td>2.02</td>\n",
       "    </tr>\n",
       "    <tr>\n",
       "      <th>железорудные окатыши</th>\n",
       "      <td>1.78</td>\n",
       "    </tr>\n",
       "    <tr>\n",
       "      <th>Среднегодовая остаточная стоимость облагаемого имущества</th>\n",
       "      <td>0.20</td>\n",
       "    </tr>\n",
       "    <tr>\n",
       "      <th>Яйца</th>\n",
       "      <td>0.08</td>\n",
       "    </tr>\n",
       "    <tr>\n",
       "      <th>Экспорт</th>\n",
       "      <td>0.00</td>\n",
       "    </tr>\n",
       "    <tr>\n",
       "      <th>Картофель</th>\n",
       "      <td>0.00</td>\n",
       "    </tr>\n",
       "    <tr>\n",
       "      <th>Молоко</th>\n",
       "      <td>0.00</td>\n",
       "    </tr>\n",
       "    <tr>\n",
       "      <th>Ввод в эксплуатацию жилых домов</th>\n",
       "      <td>0.00</td>\n",
       "    </tr>\n",
       "    <tr>\n",
       "      <th>Внешнеторговый оборот</th>\n",
       "      <td>0.00</td>\n",
       "    </tr>\n",
       "  </tbody>\n",
       "</table>\n",
       "</div>"
      ],
      "text/plain": [
       "                                                       0\n",
       "бумага                                             18.06\n",
       "Численность постоянного населения                  14.03\n",
       "Объем платных услуг населению                      13.66\n",
       "Индекс промышленного производства                  12.49\n",
       "Валовой региональный продукт                        5.38\n",
       "Фонд заработной платы                               4.76\n",
       "Уровень зарегистрированной безработицы (к числе...  4.75\n",
       "мешки бумажные                                      4.35\n",
       "Численность безработных, зарегистрированных в с...  2.91\n",
       "Импорт                                              2.88\n",
       "Добыча полезных ископаемых                          2.84\n",
       "Оборот розничной торговли                           2.82\n",
       "Инвестиции в основной капитал                       2.74\n",
       "Скот и птица                                        2.21\n",
       "Овощи                                               2.02\n",
       "Налогооблагаемая прибыль                            2.02\n",
       "железорудные окатыши                                1.78\n",
       "Среднегодовая остаточная стоимость облагаемого ...  0.20\n",
       "Яйца                                                0.08\n",
       "Экспорт                                             0.00\n",
       "Картофель                                           0.00\n",
       "Молоко                                              0.00\n",
       "Ввод в эксплуатацию жилых домов                     0.00\n",
       "Внешнеторговый оборот                               0.00"
      ]
     },
     "execution_count": 18,
     "metadata": {},
     "output_type": "execute_result"
    }
   ],
   "source": [
    "model.feature_importances_[1].sort_values(0,ascending=False)"
   ]
  },
  {
   "cell_type": "markdown",
   "id": "b1502026",
   "metadata": {},
   "source": [
    "#### Предсказание доходов от НДФЛ"
   ]
  },
  {
   "cell_type": "code",
   "execution_count": 13,
   "id": "4a817bc5",
   "metadata": {},
   "outputs": [
    {
     "data": {
      "image/png": "[encoded data removed]",
      "text/plain": [
       "<Figure size 864x360 with 1 Axes>"
      ]
     },
     "metadata": {
      "needs_background": "light"
     },
     "output_type": "display_data"
    }
   ],
   "source": [
    "width = 0.4  # the width of the bars\n",
    "xt = np.arange(len(X.index))\n",
    "\n",
    "fig, ax = plt.subplots(figsize=FIGSIZE)\n",
    "ax.plot(xt, y[TARGETS[0]])\n",
    "ax.scatter(xt, y[TARGETS[0]])\n",
    "ax.plot(xt[-YEARS_PREDICT:], df[0])\n",
    "ax.scatter(xt[-YEARS_PREDICT:], df[0])\n",
    "\n",
    "# Add some text for labels, title and custom x-axis tick labels, etc.\n",
    "ax.set_ylabel('млн. руб', fontsize=FONTSIZE+2)\n",
    "ax.set_xlabel('год', fontsize=FONTSIZE+2)\n",
    "\n",
    "ax.set_title(TARGETS[0], fontsize=FONTSIZE+4)\n",
    "ax.set_xticks(xt)\n",
    "ax.set_xticklabels([str(y) for y in X.index], fontsize=FONTSIZE)\n",
    "fig.tight_layout()\n",
    "\n",
    "plt.show()"
   ]
  },
  {
   "cell_type": "markdown",
   "id": "5774e65f",
   "metadata": {},
   "source": [
    "#### Предсказание доходов от налогов на прибыль организаций"
   ]
  },
  {
   "cell_type": "code",
   "execution_count": 14,
   "id": "b8950bce",
   "metadata": {},
   "outputs": [
    {
     "data": {
      "image/png": "[encoded data removed]",
      "text/plain": [
       "<Figure size 864x360 with 1 Axes>"
      ]
     },
     "metadata": {
      "needs_background": "light"
     },
     "output_type": "display_data"
    }
   ],
   "source": [
    "width = 0.4  # the width of the bars\n",
    "xt = np.arange(len(X.index))\n",
    "\n",
    "fig, ax = plt.subplots(figsize=FIGSIZE)\n",
    "ax.plot(xt, y[TARGETS[1]])\n",
    "ax.scatter(xt, y[TARGETS[1]])\n",
    "ax.plot(xt[-YEARS_PREDICT:], df[1])\n",
    "ax.scatter(xt[-YEARS_PREDICT:], df[1])\n",
    "\n",
    "# Add some text for labels, title and custom x-axis tick labels, etc.\n",
    "ax.set_ylabel('млн. руб', fontsize=FONTSIZE+2)\n",
    "ax.set_xlabel('год', fontsize=FONTSIZE+2)\n",
    "\n",
    "ax.set_title(TARGETS[1], fontsize=FONTSIZE+4)\n",
    "ax.set_xticks(xt)\n",
    "ax.set_xticklabels([str(y) for y in X.index], fontsize=FONTSIZE)\n",
    "fig.tight_layout()\n",
    "\n",
    "plt.show()"
   ]
  },
  {
   "cell_type": "markdown",
   "id": "fd4b0f50",
   "metadata": {},
   "source": [
    "На качестве прогноза сказывается недостаток данных целевого признака и невозможность предсказать экстраординарные события.. Падение доходов от налога на прибыль организаций в 2020 году вызванное (скорее всего) пандемией не получается спрогнозировать."
   ]
  }
 ],
 "metadata": {
  "kernelspec": {
   "display_name": "Python 3",
   "language": "python",
   "name": "python3"
  },
  "language_info": {
   "codemirror_mode": {
    "name": "ipython",
    "version": 3
   },
   "file_extension": ".py",
   "mimetype": "text/x-python",
   "name": "python",
   "nbconvert_exporter": "python",
   "pygments_lexer": "ipython3",
   "version": "3.8.10"
  }
 },
 "nbformat": 4,
 "nbformat_minor": 5
}
