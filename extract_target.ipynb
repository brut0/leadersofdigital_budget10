{
 "cells": [
  {
   "cell_type": "code",
   "execution_count": 1,
   "id": "varied-litigation",
   "metadata": {},
   "outputs": [
    {
     "name": "stdout",
     "output_type": "stream",
     "text": [
      "3.3.4\n"
     ]
    }
   ],
   "source": [
    "import numpy as np\n",
    "import pandas as pd\n",
    "import matplotlib.pyplot as plt\n",
    "\n",
    "import matplotlib as matplotlib\n",
    "print(matplotlib.__version__)"
   ]
  },
  {
   "cell_type": "code",
   "execution_count": 2,
   "id": "administrative-tomorrow",
   "metadata": {},
   "outputs": [],
   "source": [
    "pd.set_option('display.float_format', lambda x: '%.2f' % x)"
   ]
  },
  {
   "cell_type": "code",
   "execution_count": 3,
   "id": "thirty-brass",
   "metadata": {},
   "outputs": [],
   "source": [
    "FIGSIZE = (12,5)"
   ]
  },
  {
   "cell_type": "code",
   "execution_count": 4,
   "id": "varied-winner",
   "metadata": {},
   "outputs": [],
   "source": [
    "AGE_BEGIN = 2010\n",
    "AGE_END = 2020\n",
    "years = [year for year in range(AGE_BEGIN,AGE_END+1)]\n",
    "\n",
    "TARGET_IND = 'Налог на доходы физических лиц'\n",
    "TARGET_ORG = 'Налог на прибыль организаций'"
   ]
  },
  {
   "cell_type": "code",
   "execution_count": 5,
   "id": "frozen-indianapolis",
   "metadata": {},
   "outputs": [],
   "source": [
    "PATH = './data/Годовые отчеты об исполнении бюджета/'\n",
    "\n",
    "profits_actual = {}\n",
    "consumptions_actual = {}\n",
    "\n",
    "for year in years:\n",
    "    if year > 2015:\n",
    "         comma = ','\n",
    "    else:\n",
    "        comma = ''\n",
    "        \n",
    "    #\n",
    "    cons = pd.read_excel(f'{PATH}{year}.xlsx', sheet_name=f'расходы (исполнено){comma} {year}', header=1)\n",
    "    #cons = cons.drop(0)\n",
    "    consumptions_actual[year] = cons\n",
    "\n",
    "    # \n",
    "    profit = pd.read_excel(f'{PATH}{year}.xlsx', sheet_name=f'доходы (исполнено){comma} {year}', header=0)\n",
    "    profit = profit.drop(0)\n",
    "    profits_actual[year] = profit"
   ]
  },
  {
   "cell_type": "code",
   "execution_count": 6,
   "id": "african-orientation",
   "metadata": {},
   "outputs": [],
   "source": [
    "PATH = './data/Первоначальные бюджетные данные/'\n",
    "\n",
    "profits_planned = {}\n",
    "consumptions_planned = {}\n",
    "\n",
    "for year in years:\n",
    "    if year > 2017:\n",
    "         comma = ','\n",
    "    else:\n",
    "        comma = ''\n",
    "        \n",
    "    #\n",
    "    cons = pd.read_excel(f'{PATH}{year}.xlsx', sheet_name=f'расходы (план){comma} {year}', header=1)\n",
    "    cons = cons.drop(0)\n",
    "    consumptions_planned[year] = cons\n",
    "\n",
    "    # \n",
    "    profit = pd.read_excel(f'{PATH}{year}.xlsx', sheet_name=f'доходы (план){comma} {year}', header=0)\n",
    "    profit = profit.drop(0)\n",
    "    profits_planned[year] = profit"
   ]
  },
  {
   "cell_type": "code",
   "execution_count": 7,
   "id": "collected-measure",
   "metadata": {},
   "outputs": [],
   "source": [
    "for year in years:\n",
    "    profits_planned[year].rename(columns={f'{profits_planned[year].columns[0]}':'name'}, inplace=True)"
   ]
  },
  {
   "cell_type": "code",
   "execution_count": 8,
   "id": "assumed-fifty",
   "metadata": {},
   "outputs": [
    {
     "data": {
      "text/plain": [
       "[8415764100.0,\n",
       " 8033981768.0,\n",
       " 9351989850.0,\n",
       " 10207986563,\n",
       " 11252026928.0,\n",
       " 11452230385.89,\n",
       " 7865385000,\n",
       " 11304320582.21,\n",
       " 11865117341,\n",
       " 13227068480.46,\n",
       " 14437739887.02]"
      ]
     },
     "execution_count": 8,
     "metadata": {},
     "output_type": "execute_result"
    }
   ],
   "source": [
    "targets_ind = [profits_planned[year][(profits_planned[year]['name'].str.strip() == TARGET_IND)].iloc[:,-2].values[0] for year in years]\n",
    "targets_ind"
   ]
  },
  {
   "cell_type": "code",
   "execution_count": 9,
   "id": "black-speed",
   "metadata": {
    "scrolled": true
   },
   "outputs": [
    {
     "data": {
      "text/plain": [
       "<BarContainer object of 11 artists>"
      ]
     },
     "execution_count": 9,
     "metadata": {},
     "output_type": "execute_result"
    },
    {
     "data": {
      "image/png": "[encoded data removed]",
      "text/plain": [
       "<Figure size 432x288 with 1 Axes>"
      ]
     },
     "metadata": {
      "needs_background": "light"
     },
     "output_type": "display_data"
    }
   ],
   "source": [
    "plt.bar(years, targets_ind)"
   ]
  },
  {
   "cell_type": "code",
   "execution_count": 10,
   "id": "concerned-munich",
   "metadata": {},
   "outputs": [
    {
     "data": {
      "text/plain": [
       "[971518000.0,\n",
       " 3350000000.0,\n",
       " 5619500000.0,\n",
       " 6088000000,\n",
       " 3563000000.0,\n",
       " 2950636000.0,\n",
       " 4483000000,\n",
       " 5204100000,\n",
       " 4634560000,\n",
       " 8500000000,\n",
       " 11084000000]"
      ]
     },
     "execution_count": 10,
     "metadata": {},
     "output_type": "execute_result"
    }
   ],
   "source": [
    "targets_org = [profits_planned[year][(profits_planned[year]['name'].str.strip() == TARGET_ORG)].iloc[:,-2].values[0] for year in years]\n",
    "targets_org"
   ]
  },
  {
   "cell_type": "code",
   "execution_count": 11,
   "id": "relevant-marks",
   "metadata": {},
   "outputs": [
    {
     "data": {
      "text/plain": [
       "<BarContainer object of 11 artists>"
      ]
     },
     "execution_count": 11,
     "metadata": {},
     "output_type": "execute_result"
    },
    {
     "data": {
      "image/png": "[encoded data removed]",
      "text/plain": [
       "<Figure size 432x288 with 1 Axes>"
      ]
     },
     "metadata": {
      "needs_background": "light"
     },
     "output_type": "display_data"
    }
   ],
   "source": [
    "plt.bar(years, targets_org)"
   ]
  },
  {
   "cell_type": "code",
   "execution_count": 12,
   "id": "858946c0",
   "metadata": {},
   "outputs": [],
   "source": [
    "df = pd.DataFrame({'Год': years, TARGET_IND: targets_ind, TARGET_ORG: targets_org})"
   ]
  },
  {
   "cell_type": "code",
   "execution_count": 13,
   "id": "94fbe226",
   "metadata": {},
   "outputs": [
    {
     "data": {
      "text/html": [
       "<div>\n",
       "<style scoped>\n",
       "    .dataframe tbody tr th:only-of-type {\n",
       "        vertical-align: middle;\n",
       "    }\n",
       "\n",
       "    .dataframe tbody tr th {\n",
       "        vertical-align: top;\n",
       "    }\n",
       "\n",
       "    .dataframe thead th {\n",
       "        text-align: right;\n",
       "    }\n",
       "</style>\n",
       "<table border=\"1\" class=\"dataframe\">\n",
       "  <thead>\n",
       "    <tr style=\"text-align: right;\">\n",
       "      <th></th>\n",
       "      <th>Год</th>\n",
       "      <th>Налог на доходы физических лиц</th>\n",
       "      <th>Налог на прибыль организаций</th>\n",
       "    </tr>\n",
       "  </thead>\n",
       "  <tbody>\n",
       "    <tr>\n",
       "      <th>0</th>\n",
       "      <td>2010</td>\n",
       "      <td>8415764100.00</td>\n",
       "      <td>971518000.00</td>\n",
       "    </tr>\n",
       "    <tr>\n",
       "      <th>1</th>\n",
       "      <td>2011</td>\n",
       "      <td>8033981768.00</td>\n",
       "      <td>3350000000.00</td>\n",
       "    </tr>\n",
       "    <tr>\n",
       "      <th>2</th>\n",
       "      <td>2012</td>\n",
       "      <td>9351989850.00</td>\n",
       "      <td>5619500000.00</td>\n",
       "    </tr>\n",
       "    <tr>\n",
       "      <th>3</th>\n",
       "      <td>2013</td>\n",
       "      <td>10207986563.00</td>\n",
       "      <td>6088000000.00</td>\n",
       "    </tr>\n",
       "    <tr>\n",
       "      <th>4</th>\n",
       "      <td>2014</td>\n",
       "      <td>11252026928.00</td>\n",
       "      <td>3563000000.00</td>\n",
       "    </tr>\n",
       "    <tr>\n",
       "      <th>5</th>\n",
       "      <td>2015</td>\n",
       "      <td>11452230385.89</td>\n",
       "      <td>2950636000.00</td>\n",
       "    </tr>\n",
       "    <tr>\n",
       "      <th>6</th>\n",
       "      <td>2016</td>\n",
       "      <td>7865385000.00</td>\n",
       "      <td>4483000000.00</td>\n",
       "    </tr>\n",
       "    <tr>\n",
       "      <th>7</th>\n",
       "      <td>2017</td>\n",
       "      <td>11304320582.21</td>\n",
       "      <td>5204100000.00</td>\n",
       "    </tr>\n",
       "    <tr>\n",
       "      <th>8</th>\n",
       "      <td>2018</td>\n",
       "      <td>11865117341.00</td>\n",
       "      <td>4634560000.00</td>\n",
       "    </tr>\n",
       "    <tr>\n",
       "      <th>9</th>\n",
       "      <td>2019</td>\n",
       "      <td>13227068480.46</td>\n",
       "      <td>8500000000.00</td>\n",
       "    </tr>\n",
       "    <tr>\n",
       "      <th>10</th>\n",
       "      <td>2020</td>\n",
       "      <td>14437739887.02</td>\n",
       "      <td>11084000000.00</td>\n",
       "    </tr>\n",
       "  </tbody>\n",
       "</table>\n",
       "</div>"
      ],
      "text/plain": [
       "     Год  Налог на доходы физических лиц  Налог на прибыль организаций\n",
       "0   2010                   8415764100.00                  971518000.00\n",
       "1   2011                   8033981768.00                 3350000000.00\n",
       "2   2012                   9351989850.00                 5619500000.00\n",
       "3   2013                  10207986563.00                 6088000000.00\n",
       "4   2014                  11252026928.00                 3563000000.00\n",
       "5   2015                  11452230385.89                 2950636000.00\n",
       "6   2016                   7865385000.00                 4483000000.00\n",
       "7   2017                  11304320582.21                 5204100000.00\n",
       "8   2018                  11865117341.00                 4634560000.00\n",
       "9   2019                  13227068480.46                 8500000000.00\n",
       "10  2020                  14437739887.02                11084000000.00"
      ]
     },
     "execution_count": 13,
     "metadata": {},
     "output_type": "execute_result"
    }
   ],
   "source": [
    "df"
   ]
  },
  {
   "cell_type": "code",
   "execution_count": 14,
   "id": "1d6c015f",
   "metadata": {},
   "outputs": [],
   "source": [
    "df.to_csv('./data/target.csv', index=False, encoding='utf-8-sig')"
   ]
  },
  {
   "cell_type": "code",
   "execution_count": null,
   "id": "45fec684",
   "metadata": {},
   "outputs": [],
   "source": []
  }
 ],
 "metadata": {
  "kernelspec": {
   "display_name": "Python 3",
   "language": "python",
   "name": "python3"
  },
  "language_info": {
   "codemirror_mode": {
    "name": "ipython",
    "version": 3
   },
   "file_extension": ".py",
   "mimetype": "text/x-python",
   "name": "python",
   "nbconvert_exporter": "python",
   "pygments_lexer": "ipython3",
   "version": "3.8.10"
  }
 },
 "nbformat": 4,
 "nbformat_minor": 5
}
